{
 "cells": [
  {
   "cell_type": "code",
   "execution_count": 1,
   "id": "daily-reminder",
   "metadata": {},
   "outputs": [],
   "source": [
    "import pandas as pd\n",
    "import imgkit\n",
    "from IPython.display import display"
   ]
  },
  {
   "cell_type": "code",
   "execution_count": 2,
   "id": "comic-jurisdiction",
   "metadata": {},
   "outputs": [],
   "source": [
    "df_guess = pd.read_csv(\"../questionnaire/guess-o-meter-participants.csv\")\n",
    "df_diff = pd.read_csv(\"../questionnaire/diff-and-cope-participants.csv\")\n",
    "df_control = pd.read_csv(\"../questionnaire/controlgroup-participants.csv\")\n",
    "\n",
    "df_guess.rename(columns = {'Type':'EVIS'}, inplace = True)\n",
    "df_diff.rename(columns = {'Type':'EVIS'}, inplace = True)\n",
    "df_control.rename(columns = {'Type':'EVIS'}, inplace = True)"
   ]
  },
  {
   "cell_type": "code",
   "execution_count": 3,
   "id": "wired-stress",
   "metadata": {},
   "outputs": [],
   "source": [
    "df = df_guess.append([df_diff, df_control])"
   ]
  },
  {
   "cell_type": "code",
   "execution_count": 4,
   "id": "functioning-papua",
   "metadata": {},
   "outputs": [],
   "source": [
    "guess_excluded = [5,27,29]\n",
    "diff_excluded = [10,14,16]\n",
    "control_excluded = [34,42,45]"
   ]
  },
  {
   "cell_type": "code",
   "execution_count": 5,
   "id": "particular-villa",
   "metadata": {},
   "outputs": [],
   "source": [
    "df_guess_excluded = df_guess[~df_guess.ID.isin(guess_excluded)]\n",
    "df_diff_excluded = df_diff[~df_diff.ID.isin(diff_excluded)]\n",
    "df_control_excluded = df_control[~df_control.ID.isin(control_excluded)]"
   ]
  },
  {
   "cell_type": "code",
   "execution_count": 6,
   "id": "lasting-crazy",
   "metadata": {},
   "outputs": [],
   "source": [
    "df_excluded = df_guess_excluded.append([df_diff_excluded, df_control_excluded])"
   ]
  },
  {
   "cell_type": "markdown",
   "id": "systematic-tablet",
   "metadata": {},
   "source": [
    "# Nr of participants"
   ]
  },
  {
   "cell_type": "code",
   "execution_count": 7,
   "id": "determined-citizen",
   "metadata": {},
   "outputs": [
    {
     "data": {
      "text/plain": [
       "16"
      ]
     },
     "execution_count": 7,
     "metadata": {},
     "output_type": "execute_result"
    }
   ],
   "source": [
    "len(df_control)"
   ]
  },
  {
   "cell_type": "code",
   "execution_count": 8,
   "id": "failing-night",
   "metadata": {},
   "outputs": [
    {
     "data": {
      "text/plain": [
       "16"
      ]
     },
     "execution_count": 8,
     "metadata": {},
     "output_type": "execute_result"
    }
   ],
   "source": [
    "len(df_diff)"
   ]
  },
  {
   "cell_type": "code",
   "execution_count": 9,
   "id": "robust-vacuum",
   "metadata": {},
   "outputs": [
    {
     "data": {
      "text/plain": [
       "17"
      ]
     },
     "execution_count": 9,
     "metadata": {},
     "output_type": "execute_result"
    }
   ],
   "source": [
    "len(df_guess)"
   ]
  },
  {
   "cell_type": "code",
   "execution_count": 10,
   "id": "polish-blake",
   "metadata": {},
   "outputs": [
    {
     "data": {
      "text/plain": [
       "49"
      ]
     },
     "execution_count": 10,
     "metadata": {},
     "output_type": "execute_result"
    }
   ],
   "source": [
    "len(df_control) + len(df_diff) + len(df_guess)"
   ]
  },
  {
   "cell_type": "code",
   "execution_count": 11,
   "id": "serious-executive",
   "metadata": {},
   "outputs": [
    {
     "data": {
      "text/plain": [
       "40"
      ]
     },
     "execution_count": 11,
     "metadata": {},
     "output_type": "execute_result"
    }
   ],
   "source": [
    "len(df_control_excluded) + len(df_diff_excluded) + len(df_guess_excluded)"
   ]
  },
  {
   "cell_type": "code",
   "execution_count": 12,
   "id": "convinced-warren",
   "metadata": {},
   "outputs": [
    {
     "data": {
      "text/plain": [
       "13"
      ]
     },
     "execution_count": 12,
     "metadata": {},
     "output_type": "execute_result"
    }
   ],
   "source": [
    "len(df_control_excluded)"
   ]
  },
  {
   "cell_type": "code",
   "execution_count": 13,
   "id": "established-interstate",
   "metadata": {},
   "outputs": [
    {
     "data": {
      "text/plain": [
       "13"
      ]
     },
     "execution_count": 13,
     "metadata": {},
     "output_type": "execute_result"
    }
   ],
   "source": [
    "len(df_diff_excluded)"
   ]
  },
  {
   "cell_type": "code",
   "execution_count": 14,
   "id": "photographic-atlas",
   "metadata": {},
   "outputs": [
    {
     "data": {
      "text/plain": [
       "14"
      ]
     },
     "execution_count": 14,
     "metadata": {},
     "output_type": "execute_result"
    }
   ],
   "source": [
    "len(df_guess_excluded)"
   ]
  },
  {
   "cell_type": "code",
   "execution_count": 15,
   "id": "renewable-madison",
   "metadata": {},
   "outputs": [
    {
     "data": {
      "text/html": [
       "<div>\n",
       "<style scoped>\n",
       "    .dataframe tbody tr th:only-of-type {\n",
       "        vertical-align: middle;\n",
       "    }\n",
       "\n",
       "    .dataframe tbody tr th {\n",
       "        vertical-align: top;\n",
       "    }\n",
       "\n",
       "    .dataframe thead th {\n",
       "        text-align: right;\n",
       "    }\n",
       "</style>\n",
       "<table border=\"1\" class=\"dataframe\">\n",
       "  <thead>\n",
       "    <tr style=\"text-align: right;\">\n",
       "      <th></th>\n",
       "      <th>ID</th>\n",
       "    </tr>\n",
       "    <tr>\n",
       "      <th>Sex</th>\n",
       "      <th></th>\n",
       "    </tr>\n",
       "  </thead>\n",
       "  <tbody>\n",
       "    <tr>\n",
       "      <th>F</th>\n",
       "      <td>2</td>\n",
       "    </tr>\n",
       "    <tr>\n",
       "      <th>M</th>\n",
       "      <td>14</td>\n",
       "    </tr>\n",
       "  </tbody>\n",
       "</table>\n",
       "</div>"
      ],
      "text/plain": [
       "     ID\n",
       "Sex    \n",
       "F     2\n",
       "M    14"
      ]
     },
     "execution_count": 15,
     "metadata": {},
     "output_type": "execute_result"
    }
   ],
   "source": [
    "df_control.groupby([\"Sex\"]).count()[[\"ID\"]]"
   ]
  },
  {
   "cell_type": "code",
   "execution_count": 16,
   "id": "minute-encounter",
   "metadata": {},
   "outputs": [
    {
     "data": {
      "text/html": [
       "<div>\n",
       "<style scoped>\n",
       "    .dataframe tbody tr th:only-of-type {\n",
       "        vertical-align: middle;\n",
       "    }\n",
       "\n",
       "    .dataframe tbody tr th {\n",
       "        vertical-align: top;\n",
       "    }\n",
       "\n",
       "    .dataframe thead th {\n",
       "        text-align: right;\n",
       "    }\n",
       "</style>\n",
       "<table border=\"1\" class=\"dataframe\">\n",
       "  <thead>\n",
       "    <tr style=\"text-align: right;\">\n",
       "      <th></th>\n",
       "      <th>ID</th>\n",
       "    </tr>\n",
       "    <tr>\n",
       "      <th>Sex</th>\n",
       "      <th></th>\n",
       "    </tr>\n",
       "  </thead>\n",
       "  <tbody>\n",
       "    <tr>\n",
       "      <th>M</th>\n",
       "      <td>13</td>\n",
       "    </tr>\n",
       "  </tbody>\n",
       "</table>\n",
       "</div>"
      ],
      "text/plain": [
       "     ID\n",
       "Sex    \n",
       "M    13"
      ]
     },
     "execution_count": 16,
     "metadata": {},
     "output_type": "execute_result"
    }
   ],
   "source": [
    "df_control_excluded.groupby([\"Sex\"]).count()[[\"ID\"]]"
   ]
  },
  {
   "cell_type": "code",
   "execution_count": 17,
   "id": "thermal-township",
   "metadata": {},
   "outputs": [
    {
     "data": {
      "text/html": [
       "<div>\n",
       "<style scoped>\n",
       "    .dataframe tbody tr th:only-of-type {\n",
       "        vertical-align: middle;\n",
       "    }\n",
       "\n",
       "    .dataframe tbody tr th {\n",
       "        vertical-align: top;\n",
       "    }\n",
       "\n",
       "    .dataframe thead th {\n",
       "        text-align: right;\n",
       "    }\n",
       "</style>\n",
       "<table border=\"1\" class=\"dataframe\">\n",
       "  <thead>\n",
       "    <tr style=\"text-align: right;\">\n",
       "      <th></th>\n",
       "      <th>ID</th>\n",
       "    </tr>\n",
       "    <tr>\n",
       "      <th>Sex</th>\n",
       "      <th></th>\n",
       "    </tr>\n",
       "  </thead>\n",
       "  <tbody>\n",
       "    <tr>\n",
       "      <th>F</th>\n",
       "      <td>5</td>\n",
       "    </tr>\n",
       "    <tr>\n",
       "      <th>M</th>\n",
       "      <td>12</td>\n",
       "    </tr>\n",
       "  </tbody>\n",
       "</table>\n",
       "</div>"
      ],
      "text/plain": [
       "     ID\n",
       "Sex    \n",
       "F     5\n",
       "M    12"
      ]
     },
     "execution_count": 17,
     "metadata": {},
     "output_type": "execute_result"
    }
   ],
   "source": [
    "df_guess.groupby([\"Sex\"]).count()[[\"ID\"]]"
   ]
  },
  {
   "cell_type": "code",
   "execution_count": 18,
   "id": "growing-peter",
   "metadata": {},
   "outputs": [
    {
     "data": {
      "text/html": [
       "<div>\n",
       "<style scoped>\n",
       "    .dataframe tbody tr th:only-of-type {\n",
       "        vertical-align: middle;\n",
       "    }\n",
       "\n",
       "    .dataframe tbody tr th {\n",
       "        vertical-align: top;\n",
       "    }\n",
       "\n",
       "    .dataframe thead th {\n",
       "        text-align: right;\n",
       "    }\n",
       "</style>\n",
       "<table border=\"1\" class=\"dataframe\">\n",
       "  <thead>\n",
       "    <tr style=\"text-align: right;\">\n",
       "      <th></th>\n",
       "      <th>ID</th>\n",
       "    </tr>\n",
       "    <tr>\n",
       "      <th>Sex</th>\n",
       "      <th></th>\n",
       "    </tr>\n",
       "  </thead>\n",
       "  <tbody>\n",
       "    <tr>\n",
       "      <th>F</th>\n",
       "      <td>3</td>\n",
       "    </tr>\n",
       "    <tr>\n",
       "      <th>M</th>\n",
       "      <td>11</td>\n",
       "    </tr>\n",
       "  </tbody>\n",
       "</table>\n",
       "</div>"
      ],
      "text/plain": [
       "     ID\n",
       "Sex    \n",
       "F     3\n",
       "M    11"
      ]
     },
     "execution_count": 18,
     "metadata": {},
     "output_type": "execute_result"
    }
   ],
   "source": [
    "df_guess_excluded.groupby([\"Sex\"]).count()[[\"ID\"]]"
   ]
  },
  {
   "cell_type": "code",
   "execution_count": 19,
   "id": "freelance-proportion",
   "metadata": {},
   "outputs": [
    {
     "data": {
      "text/html": [
       "<div>\n",
       "<style scoped>\n",
       "    .dataframe tbody tr th:only-of-type {\n",
       "        vertical-align: middle;\n",
       "    }\n",
       "\n",
       "    .dataframe tbody tr th {\n",
       "        vertical-align: top;\n",
       "    }\n",
       "\n",
       "    .dataframe thead th {\n",
       "        text-align: right;\n",
       "    }\n",
       "</style>\n",
       "<table border=\"1\" class=\"dataframe\">\n",
       "  <thead>\n",
       "    <tr style=\"text-align: right;\">\n",
       "      <th></th>\n",
       "      <th>ID</th>\n",
       "    </tr>\n",
       "    <tr>\n",
       "      <th>Sex</th>\n",
       "      <th></th>\n",
       "    </tr>\n",
       "  </thead>\n",
       "  <tbody>\n",
       "    <tr>\n",
       "      <th>F</th>\n",
       "      <td>3</td>\n",
       "    </tr>\n",
       "    <tr>\n",
       "      <th>M</th>\n",
       "      <td>13</td>\n",
       "    </tr>\n",
       "  </tbody>\n",
       "</table>\n",
       "</div>"
      ],
      "text/plain": [
       "     ID\n",
       "Sex    \n",
       "F     3\n",
       "M    13"
      ]
     },
     "execution_count": 19,
     "metadata": {},
     "output_type": "execute_result"
    }
   ],
   "source": [
    "df_diff.groupby([\"Sex\"]).count()[[\"ID\"]]"
   ]
  },
  {
   "cell_type": "code",
   "execution_count": 20,
   "id": "heard-thermal",
   "metadata": {},
   "outputs": [
    {
     "data": {
      "text/html": [
       "<div>\n",
       "<style scoped>\n",
       "    .dataframe tbody tr th:only-of-type {\n",
       "        vertical-align: middle;\n",
       "    }\n",
       "\n",
       "    .dataframe tbody tr th {\n",
       "        vertical-align: top;\n",
       "    }\n",
       "\n",
       "    .dataframe thead th {\n",
       "        text-align: right;\n",
       "    }\n",
       "</style>\n",
       "<table border=\"1\" class=\"dataframe\">\n",
       "  <thead>\n",
       "    <tr style=\"text-align: right;\">\n",
       "      <th></th>\n",
       "      <th>ID</th>\n",
       "    </tr>\n",
       "    <tr>\n",
       "      <th>Sex</th>\n",
       "      <th></th>\n",
       "    </tr>\n",
       "  </thead>\n",
       "  <tbody>\n",
       "    <tr>\n",
       "      <th>F</th>\n",
       "      <td>1</td>\n",
       "    </tr>\n",
       "    <tr>\n",
       "      <th>M</th>\n",
       "      <td>12</td>\n",
       "    </tr>\n",
       "  </tbody>\n",
       "</table>\n",
       "</div>"
      ],
      "text/plain": [
       "     ID\n",
       "Sex    \n",
       "F     1\n",
       "M    12"
      ]
     },
     "execution_count": 20,
     "metadata": {},
     "output_type": "execute_result"
    }
   ],
   "source": [
    "df_diff_excluded.groupby([\"Sex\"]).count()[[\"ID\"]]"
   ]
  },
  {
   "cell_type": "markdown",
   "id": "random-hobby",
   "metadata": {},
   "source": [
    "# Questionnaire answers"
   ]
  },
  {
   "cell_type": "code",
   "execution_count": 26,
   "id": "sitting-yellow",
   "metadata": {},
   "outputs": [
    {
     "data": {
      "text/html": [
       "<div>\n",
       "<style scoped>\n",
       "    .dataframe tbody tr th:only-of-type {\n",
       "        vertical-align: middle;\n",
       "    }\n",
       "\n",
       "    .dataframe tbody tr th {\n",
       "        vertical-align: top;\n",
       "    }\n",
       "\n",
       "    .dataframe thead th {\n",
       "        text-align: right;\n",
       "    }\n",
       "</style>\n",
       "<table border=\"1\" class=\"dataframe\">\n",
       "  <thead>\n",
       "    <tr style=\"text-align: right;\">\n",
       "      <th>EVIS</th>\n",
       "      <th>Control Group</th>\n",
       "      <th>Diff</th>\n",
       "      <th>Guess</th>\n",
       "    </tr>\n",
       "    <tr>\n",
       "      <th>Question</th>\n",
       "      <th></th>\n",
       "      <th></th>\n",
       "      <th></th>\n",
       "    </tr>\n",
       "  </thead>\n",
       "  <tbody>\n",
       "    <tr>\n",
       "      <th>Age</th>\n",
       "      <td>29.2</td>\n",
       "      <td>29.2</td>\n",
       "      <td>29.8</td>\n",
       "    </tr>\n",
       "    <tr>\n",
       "      <th>I have previous experience with electric vehicles</th>\n",
       "      <td>2.4</td>\n",
       "      <td>2.6</td>\n",
       "      <td>2.9</td>\n",
       "    </tr>\n",
       "    <tr>\n",
       "      <th>I have previous experience with being in Virtual Reality</th>\n",
       "      <td>3.5</td>\n",
       "      <td>2.8</td>\n",
       "      <td>2.9</td>\n",
       "    </tr>\n",
       "    <tr>\n",
       "      <th>It was easy to drive the entire distance without running out of battery</th>\n",
       "      <td>3.5</td>\n",
       "      <td>4.9</td>\n",
       "      <td>3.9</td>\n",
       "    </tr>\n",
       "    <tr>\n",
       "      <th>I was sure from the beginning, that I would reach the destination without running out of battery</th>\n",
       "      <td>3.1</td>\n",
       "      <td>3.1</td>\n",
       "      <td>3.7</td>\n",
       "    </tr>\n",
       "    <tr>\n",
       "      <th>How sure I was about reaching the destination, without running out of battery, changed throughout the drive</th>\n",
       "      <td>5.0</td>\n",
       "      <td>5.1</td>\n",
       "      <td>4.5</td>\n",
       "    </tr>\n",
       "    <tr>\n",
       "      <th>I found the dashboard to be reliable</th>\n",
       "      <td>4.8</td>\n",
       "      <td>4.8</td>\n",
       "      <td>5.4</td>\n",
       "    </tr>\n",
       "    <tr>\n",
       "      <th>I found the dashboard useful for completing the task</th>\n",
       "      <td>5.6</td>\n",
       "      <td>5.3</td>\n",
       "      <td>5.9</td>\n",
       "    </tr>\n",
       "    <tr>\n",
       "      <th>The displayed remaining distance agreed with the distance I could drive</th>\n",
       "      <td>5.1</td>\n",
       "      <td>5.2</td>\n",
       "      <td>5.4</td>\n",
       "    </tr>\n",
       "    <tr>\n",
       "      <th>I felt I understood what affected the remaining distance displayed by the dashboard</th>\n",
       "      <td>5.0</td>\n",
       "      <td>5.6</td>\n",
       "      <td>5.3</td>\n",
       "    </tr>\n",
       "    <tr>\n",
       "      <th>I felt I could influence the displayed remaining distance</th>\n",
       "      <td>5.2</td>\n",
       "      <td>5.4</td>\n",
       "      <td>5.7</td>\n",
       "    </tr>\n",
       "    <tr>\n",
       "      <th>The dashboard was difficult to understand</th>\n",
       "      <td>2.8</td>\n",
       "      <td>2.7</td>\n",
       "      <td>2.0</td>\n",
       "    </tr>\n",
       "    <tr>\n",
       "      <th>I felt the dashboard lacked information for completing the task</th>\n",
       "      <td>3.5</td>\n",
       "      <td>2.6</td>\n",
       "      <td>3.5</td>\n",
       "    </tr>\n",
       "  </tbody>\n",
       "</table>\n",
       "</div>"
      ],
      "text/plain": [
       "EVIS                                                Control Group  Diff  Guess\n",
       "Question                                                                      \n",
       "Age                                                          29.2  29.2   29.8\n",
       "I have previous experience with electric vehicles             2.4   2.6    2.9\n",
       "I have previous experience with being in Virtua...            3.5   2.8    2.9\n",
       "It was easy to drive the entire distance withou...            3.5   4.9    3.9\n",
       "I was sure from the beginning, that I would rea...            3.1   3.1    3.7\n",
       "How sure I was about reaching the destination, ...            5.0   5.1    4.5\n",
       "I found the dashboard to be reliable                          4.8   4.8    5.4\n",
       "I found the dashboard useful for completing the...            5.6   5.3    5.9\n",
       "The displayed remaining distance agreed with th...            5.1   5.2    5.4\n",
       "I felt I understood what affected the remaining...            5.0   5.6    5.3\n",
       "I felt I could influence the displayed remainin...            5.2   5.4    5.7\n",
       "The dashboard was difficult to understand                     2.8   2.7    2.0\n",
       "I felt the dashboard lacked information for com...            3.5   2.6    3.5"
      ]
     },
     "execution_count": 26,
     "metadata": {},
     "output_type": "execute_result"
    }
   ],
   "source": [
    "q1 = df_excluded.groupby(\"EVIS\").mean().round(1).drop(\"ID\",1).T\n",
    "q1.index.name = \"Question\"\n",
    "q1"
   ]
  },
  {
   "cell_type": "code",
   "execution_count": 28,
   "id": "harmful-manual",
   "metadata": {},
   "outputs": [
    {
     "data": {
      "text/html": [
       "<div>\n",
       "<style scoped>\n",
       "    .dataframe tbody tr th:only-of-type {\n",
       "        vertical-align: middle;\n",
       "    }\n",
       "\n",
       "    .dataframe tbody tr th {\n",
       "        vertical-align: top;\n",
       "    }\n",
       "\n",
       "    .dataframe thead th {\n",
       "        text-align: right;\n",
       "    }\n",
       "</style>\n",
       "<table border=\"1\" class=\"dataframe\">\n",
       "  <thead>\n",
       "    <tr style=\"text-align: right;\">\n",
       "      <th>EVIS</th>\n",
       "      <th>Control Group</th>\n",
       "      <th>Diff</th>\n",
       "      <th>Guess</th>\n",
       "    </tr>\n",
       "    <tr>\n",
       "      <th>Question</th>\n",
       "      <th></th>\n",
       "      <th></th>\n",
       "      <th></th>\n",
       "    </tr>\n",
       "  </thead>\n",
       "  <tbody>\n",
       "    <tr>\n",
       "      <th>Age</th>\n",
       "      <td>26.0</td>\n",
       "      <td>25.0</td>\n",
       "      <td>25.0</td>\n",
       "    </tr>\n",
       "    <tr>\n",
       "      <th>I have previous experience with electric vehicles</th>\n",
       "      <td>2.0</td>\n",
       "      <td>2.0</td>\n",
       "      <td>2.5</td>\n",
       "    </tr>\n",
       "    <tr>\n",
       "      <th>I have previous experience with being in Virtual Reality</th>\n",
       "      <td>3.0</td>\n",
       "      <td>2.0</td>\n",
       "      <td>2.0</td>\n",
       "    </tr>\n",
       "    <tr>\n",
       "      <th>It was easy to drive the entire distance without running out of battery</th>\n",
       "      <td>3.0</td>\n",
       "      <td>5.0</td>\n",
       "      <td>3.5</td>\n",
       "    </tr>\n",
       "    <tr>\n",
       "      <th>I was sure from the beginning, that I would reach the destination without running out of battery</th>\n",
       "      <td>3.0</td>\n",
       "      <td>3.0</td>\n",
       "      <td>3.5</td>\n",
       "    </tr>\n",
       "    <tr>\n",
       "      <th>How sure I was about reaching the destination, without running out of battery, changed throughout the drive</th>\n",
       "      <td>5.0</td>\n",
       "      <td>5.0</td>\n",
       "      <td>4.5</td>\n",
       "    </tr>\n",
       "    <tr>\n",
       "      <th>I found the dashboard to be reliable</th>\n",
       "      <td>5.0</td>\n",
       "      <td>5.0</td>\n",
       "      <td>5.0</td>\n",
       "    </tr>\n",
       "    <tr>\n",
       "      <th>I found the dashboard useful for completing the task</th>\n",
       "      <td>6.0</td>\n",
       "      <td>6.0</td>\n",
       "      <td>6.0</td>\n",
       "    </tr>\n",
       "    <tr>\n",
       "      <th>The displayed remaining distance agreed with the distance I could drive</th>\n",
       "      <td>5.0</td>\n",
       "      <td>6.0</td>\n",
       "      <td>6.0</td>\n",
       "    </tr>\n",
       "    <tr>\n",
       "      <th>I felt I understood what affected the remaining distance displayed by the dashboard</th>\n",
       "      <td>5.0</td>\n",
       "      <td>6.0</td>\n",
       "      <td>6.0</td>\n",
       "    </tr>\n",
       "    <tr>\n",
       "      <th>I felt I could influence the displayed remaining distance</th>\n",
       "      <td>5.0</td>\n",
       "      <td>6.0</td>\n",
       "      <td>6.5</td>\n",
       "    </tr>\n",
       "    <tr>\n",
       "      <th>The dashboard was difficult to understand</th>\n",
       "      <td>3.0</td>\n",
       "      <td>2.0</td>\n",
       "      <td>1.5</td>\n",
       "    </tr>\n",
       "    <tr>\n",
       "      <th>I felt the dashboard lacked information for completing the task</th>\n",
       "      <td>4.0</td>\n",
       "      <td>3.0</td>\n",
       "      <td>4.0</td>\n",
       "    </tr>\n",
       "  </tbody>\n",
       "</table>\n",
       "</div>"
      ],
      "text/plain": [
       "EVIS                                                Control Group  Diff  Guess\n",
       "Question                                                                      \n",
       "Age                                                          26.0  25.0   25.0\n",
       "I have previous experience with electric vehicles             2.0   2.0    2.5\n",
       "I have previous experience with being in Virtua...            3.0   2.0    2.0\n",
       "It was easy to drive the entire distance withou...            3.0   5.0    3.5\n",
       "I was sure from the beginning, that I would rea...            3.0   3.0    3.5\n",
       "How sure I was about reaching the destination, ...            5.0   5.0    4.5\n",
       "I found the dashboard to be reliable                          5.0   5.0    5.0\n",
       "I found the dashboard useful for completing the...            6.0   6.0    6.0\n",
       "The displayed remaining distance agreed with th...            5.0   6.0    6.0\n",
       "I felt I understood what affected the remaining...            5.0   6.0    6.0\n",
       "I felt I could influence the displayed remainin...            5.0   6.0    6.5\n",
       "The dashboard was difficult to understand                     3.0   2.0    1.5\n",
       "I felt the dashboard lacked information for com...            4.0   3.0    4.0"
      ]
     },
     "execution_count": 28,
     "metadata": {},
     "output_type": "execute_result"
    }
   ],
   "source": [
    "q = df_excluded.groupby(\"EVIS\").median().drop(\"ID\",1).T\n",
    "q.index.name = \"Question\"\n",
    "q"
   ]
  },
  {
   "cell_type": "code",
   "execution_count": 29,
   "id": "hundred-constitutional",
   "metadata": {},
   "outputs": [
    {
     "data": {
      "text/html": [
       "<div>\n",
       "<style scoped>\n",
       "    .dataframe tbody tr th:only-of-type {\n",
       "        vertical-align: middle;\n",
       "    }\n",
       "\n",
       "    .dataframe tbody tr th {\n",
       "        vertical-align: top;\n",
       "    }\n",
       "\n",
       "    .dataframe thead th {\n",
       "        text-align: right;\n",
       "    }\n",
       "</style>\n",
       "<table border=\"1\" class=\"dataframe\">\n",
       "  <thead>\n",
       "    <tr style=\"text-align: right;\">\n",
       "      <th>EVIS</th>\n",
       "      <th>Control Group</th>\n",
       "      <th>Diff</th>\n",
       "      <th>Guess</th>\n",
       "    </tr>\n",
       "    <tr>\n",
       "      <th>Question</th>\n",
       "      <th></th>\n",
       "      <th></th>\n",
       "      <th></th>\n",
       "    </tr>\n",
       "  </thead>\n",
       "  <tbody>\n",
       "    <tr>\n",
       "      <th>Age</th>\n",
       "      <td>8.8</td>\n",
       "      <td>11.8</td>\n",
       "      <td>14.1</td>\n",
       "    </tr>\n",
       "    <tr>\n",
       "      <th>I have previous experience with electric vehicles</th>\n",
       "      <td>1.4</td>\n",
       "      <td>1.7</td>\n",
       "      <td>1.9</td>\n",
       "    </tr>\n",
       "    <tr>\n",
       "      <th>I have previous experience with being in Virtual Reality</th>\n",
       "      <td>2.0</td>\n",
       "      <td>2.1</td>\n",
       "      <td>1.8</td>\n",
       "    </tr>\n",
       "    <tr>\n",
       "      <th>It was easy to drive the entire distance without running out of battery</th>\n",
       "      <td>1.3</td>\n",
       "      <td>1.7</td>\n",
       "      <td>2.1</td>\n",
       "    </tr>\n",
       "    <tr>\n",
       "      <th>I was sure from the beginning, that I would reach the destination without running out of battery</th>\n",
       "      <td>1.3</td>\n",
       "      <td>1.8</td>\n",
       "      <td>2.0</td>\n",
       "    </tr>\n",
       "    <tr>\n",
       "      <th>How sure I was about reaching the destination, without running out of battery, changed throughout the drive</th>\n",
       "      <td>1.5</td>\n",
       "      <td>1.4</td>\n",
       "      <td>2.1</td>\n",
       "    </tr>\n",
       "    <tr>\n",
       "      <th>I found the dashboard to be reliable</th>\n",
       "      <td>0.9</td>\n",
       "      <td>1.9</td>\n",
       "      <td>1.3</td>\n",
       "    </tr>\n",
       "    <tr>\n",
       "      <th>I found the dashboard useful for completing the task</th>\n",
       "      <td>1.0</td>\n",
       "      <td>2.0</td>\n",
       "      <td>1.0</td>\n",
       "    </tr>\n",
       "    <tr>\n",
       "      <th>The displayed remaining distance agreed with the distance I could drive</th>\n",
       "      <td>1.0</td>\n",
       "      <td>1.7</td>\n",
       "      <td>1.5</td>\n",
       "    </tr>\n",
       "    <tr>\n",
       "      <th>I felt I understood what affected the remaining distance displayed by the dashboard</th>\n",
       "      <td>2.1</td>\n",
       "      <td>1.2</td>\n",
       "      <td>1.7</td>\n",
       "    </tr>\n",
       "    <tr>\n",
       "      <th>I felt I could influence the displayed remaining distance</th>\n",
       "      <td>1.6</td>\n",
       "      <td>1.7</td>\n",
       "      <td>1.5</td>\n",
       "    </tr>\n",
       "    <tr>\n",
       "      <th>The dashboard was difficult to understand</th>\n",
       "      <td>1.7</td>\n",
       "      <td>1.4</td>\n",
       "      <td>1.3</td>\n",
       "    </tr>\n",
       "    <tr>\n",
       "      <th>I felt the dashboard lacked information for completing the task</th>\n",
       "      <td>1.9</td>\n",
       "      <td>1.4</td>\n",
       "      <td>1.8</td>\n",
       "    </tr>\n",
       "  </tbody>\n",
       "</table>\n",
       "</div>"
      ],
      "text/plain": [
       "EVIS                                                Control Group  Diff  Guess\n",
       "Question                                                                      \n",
       "Age                                                           8.8  11.8   14.1\n",
       "I have previous experience with electric vehicles             1.4   1.7    1.9\n",
       "I have previous experience with being in Virtua...            2.0   2.1    1.8\n",
       "It was easy to drive the entire distance withou...            1.3   1.7    2.1\n",
       "I was sure from the beginning, that I would rea...            1.3   1.8    2.0\n",
       "How sure I was about reaching the destination, ...            1.5   1.4    2.1\n",
       "I found the dashboard to be reliable                          0.9   1.9    1.3\n",
       "I found the dashboard useful for completing the...            1.0   2.0    1.0\n",
       "The displayed remaining distance agreed with th...            1.0   1.7    1.5\n",
       "I felt I understood what affected the remaining...            2.1   1.2    1.7\n",
       "I felt I could influence the displayed remainin...            1.6   1.7    1.5\n",
       "The dashboard was difficult to understand                     1.7   1.4    1.3\n",
       "I felt the dashboard lacked information for com...            1.9   1.4    1.8"
      ]
     },
     "execution_count": 29,
     "metadata": {},
     "output_type": "execute_result"
    }
   ],
   "source": [
    "q = df_excluded.groupby(\"EVIS\").std().round(1).drop(\"ID\",1).T\n",
    "q.index.name = \"Question\"\n",
    "q"
   ]
  },
  {
   "cell_type": "markdown",
   "id": "endangered-playlist",
   "metadata": {},
   "source": [
    "## Successful during attempt #1"
   ]
  },
  {
   "cell_type": "code",
   "execution_count": null,
   "id": "exciting-indonesian",
   "metadata": {},
   "outputs": [],
   "source": [
    "success_id = [6,  8,  9, 12, 13, 18, 20, 21, 24, 30, 35, 36, 40, 41, 46, 47]"
   ]
  },
  {
   "cell_type": "code",
   "execution_count": null,
   "id": "third-calibration",
   "metadata": {},
   "outputs": [],
   "source": [
    "len(success_id)"
   ]
  },
  {
   "cell_type": "code",
   "execution_count": null,
   "id": "equal-liabilities",
   "metadata": {},
   "outputs": [],
   "source": [
    "questionnaire_success = df_excluded[df_excluded.ID.isin(success_id)]\n",
    "questionnaire_success"
   ]
  },
  {
   "cell_type": "code",
   "execution_count": null,
   "id": "tight-freight",
   "metadata": {},
   "outputs": [],
   "source": [
    "len(questionnaire_success)"
   ]
  },
  {
   "cell_type": "markdown",
   "id": "medical-lambda",
   "metadata": {},
   "source": [
    "## Faield during attempt #1"
   ]
  },
  {
   "cell_type": "code",
   "execution_count": null,
   "id": "italic-productivity",
   "metadata": {},
   "outputs": [],
   "source": [
    "fails_id = [1,  2,  3,  4,  7, 11, 15, 17, 19, 22, 23, 25, 26, 28, 31, 32, 33, 37, 38, 39, 43, 44, 48, 49]"
   ]
  },
  {
   "cell_type": "code",
   "execution_count": null,
   "id": "amino-dublin",
   "metadata": {},
   "outputs": [],
   "source": [
    "len(fails_id)"
   ]
  },
  {
   "cell_type": "code",
   "execution_count": null,
   "id": "composed-oasis",
   "metadata": {},
   "outputs": [],
   "source": [
    "questionnaire_failed = df_excluded[df_excluded.ID.isin(fails_id)]\n",
    "type(questionnaire_failed)"
   ]
  },
  {
   "cell_type": "code",
   "execution_count": null,
   "id": "soviet-opposition",
   "metadata": {},
   "outputs": [],
   "source": []
  },
  {
   "cell_type": "code",
   "execution_count": null,
   "id": "governmental-directive",
   "metadata": {},
   "outputs": [],
   "source": [
    "len(questionnaire_failed)"
   ]
  },
  {
   "cell_type": "code",
   "execution_count": null,
   "id": "advance-collapse",
   "metadata": {},
   "outputs": [],
   "source": [
    "questionnaire_failed"
   ]
  },
  {
   "cell_type": "code",
   "execution_count": null,
   "id": "lonely-drunk",
   "metadata": {},
   "outputs": [],
   "source": [
    "pd.DataFrame(questionnaire_failed.mean()).T.round(1).drop(\"ID\", 1)"
   ]
  },
  {
   "cell_type": "code",
   "execution_count": null,
   "id": "induced-tragedy",
   "metadata": {},
   "outputs": [],
   "source": [
    "pd.DataFrame(questionnaire_success.mean()).T.round(1).drop(\"ID\", 1)"
   ]
  },
  {
   "cell_type": "code",
   "execution_count": null,
   "id": "informed-chosen",
   "metadata": {},
   "outputs": [],
   "source": []
  },
  {
   "cell_type": "code",
   "execution_count": null,
   "id": "everyday-yahoo",
   "metadata": {},
   "outputs": [],
   "source": [
    "pd.DataFrame(questionnaire_failed.median()).T.round(1).drop(\"ID\", 1)"
   ]
  },
  {
   "cell_type": "code",
   "execution_count": null,
   "id": "eight-ecology",
   "metadata": {},
   "outputs": [],
   "source": [
    "pd.DataFrame(questionnaire_success.median()).T.round(1).drop(\"ID\", 1)"
   ]
  }
 ],
 "metadata": {
  "kernelspec": {
   "display_name": "Python 3",
   "language": "python",
   "name": "python3"
  },
  "language_info": {
   "codemirror_mode": {
    "name": "ipython",
    "version": 3
   },
   "file_extension": ".py",
   "mimetype": "text/x-python",
   "name": "python",
   "nbconvert_exporter": "python",
   "pygments_lexer": "ipython3",
   "version": "3.8.8"
  }
 },
 "nbformat": 4,
 "nbformat_minor": 5
}
