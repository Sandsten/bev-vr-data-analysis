{
 "cells": [
  {
   "cell_type": "code",
   "execution_count": 9,
   "id": "global-windsor",
   "metadata": {},
   "outputs": [],
   "source": [
    "import pandas as pd\n",
    "import numpy as np\n",
    "import math\n",
    "from IPython.display import display, Markdown, HTML\n",
    "from scipy import stats"
   ]
  },
  {
   "cell_type": "code",
   "execution_count": 10,
   "id": "primary-thanks",
   "metadata": {},
   "outputs": [],
   "source": [
    "# Load driving data\n",
    "driving_data_file_path = \"./driving_data_merged_1_to_49.csv\"\n",
    "driving_data_original = pd.read_csv(driving_data_file_path)"
   ]
  },
  {
   "cell_type": "code",
   "execution_count": 11,
   "id": "acknowledged-horror",
   "metadata": {},
   "outputs": [],
   "source": [
    "# If we want to exclude participants, do it here by their ID\n",
    "guess_excluded = [5,15,25,27,29]\n",
    "diff_excluded = [10,14,16,32]\n",
    "control_excluded = [34,42,45]\n",
    "\n",
    "exclusion_list = guess_excluded + diff_excluded + control_excluded\n",
    "\n",
    "# Remove all rows which are of participants who are in the exclusion_list\n",
    "# .copy() is important to avoid warnings later, if .copy() not used and we modify driving_data, driving_data_original will be affected too!\n",
    "driving_data = driving_data_original[~driving_data_original.user_id.isin(exclusion_list)].copy()\n",
    "\n",
    "# Convert throttle position to percent\n",
    "driving_data[\"throttle_position\"] *= 100"
   ]
  },
  {
   "cell_type": "code",
   "execution_count": 12,
   "id": "former-factory",
   "metadata": {
    "code_folding": [
     0
    ]
   },
   "outputs": [],
   "source": [
    "# Calculate average over a specific distance window\n",
    "\n",
    "# Decide which distance interval to average over\n",
    "distance_window_size = 50 # in meters\n",
    "\n",
    "# Calculate which distance window the row should belong to\n",
    "def assignDistanceWindow(distance):\n",
    "    distance_window_index = round(distance / distance_window_size)\n",
    "    return distance_window_size * distance_window_index\n",
    "\n",
    "# Add a new column which stores the distance window the distance traveled fits in\n",
    "driving_data[\"distance_window\"] = driving_data[\"distance_traveled\"].apply(assignDistanceWindow)"
   ]
  },
  {
   "cell_type": "code",
   "execution_count": 13,
   "id": "victorian-singer",
   "metadata": {
    "code_folding": [
     0
    ]
   },
   "outputs": [],
   "source": [
    "## Calculate mean and STD\n",
    "\n",
    "# Get the average and std of each distance window for each user in each drivign attempt\n",
    "average_individual = driving_data.groupby([\"attempt\", \"evis_id\", \"user_id\", \"distance_window\"], as_index=False).mean()\n",
    "std_individual = driving_data.groupby([\"attempt\", \"evis_id\", \"user_id\", \"distance_window\"], as_index=False).std()\n",
    "\n",
    "# Get the mean and std for each attempt in each group\n",
    "average_groups = average_individual.groupby([\"attempt\", \"evis_id\", \"distance_window\"], as_index=False).mean()\n",
    "std_groups = average_individual.groupby([\"attempt\", \"evis_id\", \"distance_window\"], as_index=False).std()\n",
    "\n",
    "# Get the average road height for each distance window\n",
    "road_elevation = average_groups[[\"distance_window\", \"road_elevation\"]]\n",
    "road_elevation = road_elevation.groupby([\"distance_window\"], as_index=False).mean()"
   ]
  },
  {
   "cell_type": "code",
   "execution_count": 14,
   "id": "local-bachelor",
   "metadata": {},
   "outputs": [
    {
     "name": "stdout",
     "output_type": "stream",
     "text": [
      "section: [7700, 8000]\n",
      "t-test between control & diff[7700, 8000]\n",
      "Sample 1 has 6 entries\n",
      "Sample 2 has 8 entries\n",
      "p-value: 0.195\n",
      "No statistical difference between the means\n",
      "--------------------\n",
      "t-test between control & guess [7700, 8000]\n",
      "Sample 1 has 6 entries\n",
      "Sample 2 has 3 entries\n",
      "p-value: 0.06\n",
      "No statistical difference between the means\n",
      "--------------------\n",
      "t-test between diff & guess [7700, 8000]\n",
      "Sample 1 has 8 entries\n",
      "Sample 2 has 3 entries\n",
      "p-value: 0.69\n",
      "No statistical difference between the means\n",
      "--------------------\n"
     ]
    }
   ],
   "source": [
    "variable = \"throttle_position\"\n",
    "\n",
    "which_attempt = 1\n",
    "evis = \"diff_and_cope1\"\n",
    "# All the averaged values for each individual\n",
    "individual = average_individual[(average_individual.attempt == which_attempt) & (average_individual.evis_id == evis)] # Get one particular attempt and evis values\n",
    "a1_mean_speeds_diff = individual.pivot(index=\"distance_window\", columns=\"user_id\", values=variable) # Get the average speeds for each distance window for each user\n",
    "\n",
    "evis = \"guess_o_meter\"\n",
    "individual = average_individual[(average_individual.attempt == which_attempt) & (average_individual.evis_id == evis)] # Get one particular attempt and evis values\n",
    "a1_mean_speeds_guess = individual.pivot(index=\"distance_window\", columns=\"user_id\", values=variable) # Get the average speeds for each distance window for each user\n",
    "\n",
    "evis = \"control_group\"\n",
    "individual = average_individual[(average_individual.attempt == which_attempt) & (average_individual.evis_id == evis)] # Get one particular attempt and evis values\n",
    "a1_mean_speeds_control = individual.pivot(index=\"distance_window\", columns=\"user_id\", values=variable) # Get the average speeds for each distance window for each user\n",
    "\n",
    "\n",
    "def ttest_independent(samp_1, samp_2):\n",
    "    print(\"Sample 1 has \" + str(samp_1.count()) + \" entries\")\n",
    "    print(\"Sample 2 has \" + str(samp_2.count()) + \" entries\")\n",
    "    \n",
    "    s,p = stats.levene(samp_1, samp_2)\n",
    "    if p < 0.05:\n",
    "        print(\"Unequal variance, can't do t-test\")\n",
    "    else:\n",
    "        s,p = stats.ttest_ind(samp_1, samp_2) # Use dependent if we compare attempt 1 & 2 of the same attempt\n",
    "        print(\"p-value: \" + str(round(p,3)))\n",
    "        if p < 0.05:\n",
    "            display(Markdown(\"<font color='green'>There is a statistical difference between the means</font>\"))\n",
    "        else:\n",
    "            print(\"No statistical difference between the means\")\n",
    "    print(\"-\"*20)\n",
    "\n",
    "    \n",
    "def ttest_range(sections):\n",
    "  for section in sections:\n",
    "      print(\"section: \" + str(section))\n",
    "\n",
    "      # Get the mean speeds at the given section. Also remove users who didn't complete the given range\n",
    "      a1_mean_speeds_diff_section = a1_mean_speeds_diff.loc[section[0]:section[1]].dropna(axis=1).mean()\n",
    "      a1_mean_speeds_guess_section = a1_mean_speeds_guess.loc[section[0]:section[1]].dropna(axis=1).mean()\n",
    "      a1_mean_speeds_control_section = a1_mean_speeds_control.loc[section[0]:section[1]].dropna(axis=1).mean()\n",
    "\n",
    "      print(\"t-test between control & diff\" + str(section))\n",
    "      ttest_independent(a1_mean_speeds_control_section, a1_mean_speeds_diff_section)\n",
    "\n",
    "      print(\"t-test between control & guess \" + str(section))\n",
    "      ttest_independent(a1_mean_speeds_control_section, a1_mean_speeds_guess_section)\n",
    "\n",
    "      print(\"t-test between diff & guess \" + str(section))\n",
    "      ttest_independent(a1_mean_speeds_diff_section, a1_mean_speeds_guess_section)    \n",
    "\n",
    "sections = [[7700, 8000]]\n",
    "ttest_range(sections)  "
   ]
  },
  {
   "cell_type": "markdown",
   "id": "certified-number",
   "metadata": {},
   "source": [
    "## Auto check multiple road sections "
   ]
  },
  {
   "cell_type": "code",
   "execution_count": 7,
   "id": "moving-syndication",
   "metadata": {},
   "outputs": [
    {
     "name": "stdout",
     "output_type": "stream",
     "text": [
      "[  0 300]\n",
      "[ 50 350]\n",
      "[100 400]\n",
      "[150 450]\n",
      "[200 500]\n",
      "[250 550]\n",
      "[300 600]\n",
      "[350 650]\n",
      "[400 700]\n",
      "[450 750]\n",
      "[500 800]\n",
      "[550 850]\n",
      "[600 900]\n",
      "[650 950]\n",
      "[ 700 1000]\n",
      "[ 750 1050]\n",
      "[ 800 1100]\n",
      "[ 850 1150]\n",
      "[ 900 1200]\n",
      "[ 950 1250]\n",
      "[1000 1300]\n",
      "[1050 1350]\n",
      "[1100 1400]\n",
      "[1150 1450]\n",
      "[1200 1500]\n",
      "[1250 1550]\n",
      "[1300 1600]\n",
      "[1350 1650]\n",
      "[1400 1700]\n",
      "[1450 1750]\n",
      "[1500 1800]\n",
      "[1550 1850]\n",
      "[1600 1900]\n",
      "[1650 1950]\n",
      "[1700 2000]\n",
      "[1750 2050]\n",
      "[1800 2100]\n",
      "[1850 2150]\n",
      "[1900 2200]\n",
      "[1950 2250]\n",
      "[2000 2300]\n",
      "[2050 2350]\n",
      "[2100 2400]\n",
      "[2150 2450]\n",
      "[2200 2500]\n",
      "[2250 2550]\n",
      "[2300 2600]\n",
      "[2350 2650]\n",
      "[2400 2700]\n",
      "[2450 2750]\n",
      "[2500 2800]\n",
      "[2550 2850]\n",
      "[2600 2900]\n",
      "[2650 2950]\n",
      "[2700 3000]\n",
      "[2750 3050]\n",
      "[2800 3100]\n",
      "[2850 3150]\n",
      "[2900 3200]\n",
      "\n",
      "t-test between control & diff [2900 3200]\n",
      "p-value 0.4071\n",
      "N1: 13  N2: 12\n",
      "\n",
      "t-test between control & guess [2900 3200]\n",
      "N1: 13  N2: 12\n",
      "p-value 0.1421\n",
      "\n",
      "t-test between diff & guess[2900 3200]\n",
      "p-value 0.0338\n",
      "N1: 12  N2: 12\n"
     ]
    },
    {
     "data": {
      "text/markdown": [
       "<font color='green'>There is a statistical difference between the means</font>"
      ],
      "text/plain": [
       "<IPython.core.display.Markdown object>"
      ]
     },
     "metadata": {},
     "output_type": "display_data"
    },
    {
     "name": "stdout",
     "output_type": "stream",
     "text": [
      "--------------------\n",
      "[2950 3250]\n",
      "\n",
      "t-test between control & diff [2950 3250]\n",
      "p-value 0.3219\n",
      "N1: 13  N2: 12\n",
      "\n",
      "t-test between control & guess [2950 3250]\n",
      "N1: 13  N2: 12\n",
      "p-value 0.1568\n",
      "\n",
      "t-test between diff & guess[2950 3250]\n",
      "p-value 0.0347\n",
      "N1: 12  N2: 12\n"
     ]
    },
    {
     "data": {
      "text/markdown": [
       "<font color='green'>There is a statistical difference between the means</font>"
      ],
      "text/plain": [
       "<IPython.core.display.Markdown object>"
      ]
     },
     "metadata": {},
     "output_type": "display_data"
    },
    {
     "name": "stdout",
     "output_type": "stream",
     "text": [
      "--------------------\n",
      "[3000 3300]\n",
      "\n",
      "t-test between control & diff [3000 3300]\n",
      "p-value 0.3322\n",
      "N1: 13  N2: 12\n",
      "\n",
      "t-test between control & guess [3000 3300]\n",
      "N1: 13  N2: 12\n",
      "p-value 0.1486\n",
      "\n",
      "t-test between diff & guess[3000 3300]\n",
      "p-value 0.0384\n",
      "N1: 12  N2: 12\n"
     ]
    },
    {
     "data": {
      "text/markdown": [
       "<font color='green'>There is a statistical difference between the means</font>"
      ],
      "text/plain": [
       "<IPython.core.display.Markdown object>"
      ]
     },
     "metadata": {},
     "output_type": "display_data"
    },
    {
     "name": "stdout",
     "output_type": "stream",
     "text": [
      "--------------------\n",
      "[3050 3350]\n",
      "\n",
      "t-test between control & diff [3050 3350]\n",
      "p-value 0.3313\n",
      "N1: 13  N2: 12\n",
      "\n",
      "t-test between control & guess [3050 3350]\n",
      "N1: 13  N2: 12\n",
      "p-value 0.1566\n",
      "\n",
      "t-test between diff & guess[3050 3350]\n",
      "p-value 0.0416\n",
      "N1: 12  N2: 12\n"
     ]
    },
    {
     "data": {
      "text/markdown": [
       "<font color='green'>There is a statistical difference between the means</font>"
      ],
      "text/plain": [
       "<IPython.core.display.Markdown object>"
      ]
     },
     "metadata": {},
     "output_type": "display_data"
    },
    {
     "name": "stdout",
     "output_type": "stream",
     "text": [
      "--------------------\n",
      "[3100 3400]\n",
      "\n",
      "t-test between control & diff [3100 3400]\n",
      "p-value 0.3396\n",
      "N1: 13  N2: 12\n",
      "\n",
      "t-test between control & guess [3100 3400]\n",
      "N1: 13  N2: 12\n",
      "p-value 0.1584\n",
      "\n",
      "t-test between diff & guess[3100 3400]\n",
      "p-value 0.0417\n",
      "N1: 12  N2: 12\n"
     ]
    },
    {
     "data": {
      "text/markdown": [
       "<font color='green'>There is a statistical difference between the means</font>"
      ],
      "text/plain": [
       "<IPython.core.display.Markdown object>"
      ]
     },
     "metadata": {},
     "output_type": "display_data"
    },
    {
     "name": "stdout",
     "output_type": "stream",
     "text": [
      "--------------------\n",
      "[3150 3450]\n",
      "\n",
      "t-test between control & diff [3150 3450]\n",
      "p-value 0.3292\n",
      "N1: 13  N2: 12\n",
      "\n",
      "t-test between control & guess [3150 3450]\n",
      "N1: 13  N2: 12\n",
      "p-value 0.1526\n",
      "\n",
      "t-test between diff & guess[3150 3450]\n",
      "p-value 0.0378\n",
      "N1: 12  N2: 12\n"
     ]
    },
    {
     "data": {
      "text/markdown": [
       "<font color='green'>There is a statistical difference between the means</font>"
      ],
      "text/plain": [
       "<IPython.core.display.Markdown object>"
      ]
     },
     "metadata": {},
     "output_type": "display_data"
    },
    {
     "name": "stdout",
     "output_type": "stream",
     "text": [
      "--------------------\n",
      "[3200 3500]\n",
      "\n",
      "t-test between control & diff [3200 3500]\n",
      "p-value 0.3048\n",
      "N1: 13  N2: 12\n",
      "\n",
      "t-test between control & guess [3200 3500]\n",
      "N1: 13  N2: 12\n",
      "p-value 0.1946\n",
      "\n",
      "t-test between diff & guess[3200 3500]\n",
      "p-value 0.0385\n",
      "N1: 12  N2: 12\n"
     ]
    },
    {
     "data": {
      "text/markdown": [
       "<font color='green'>There is a statistical difference between the means</font>"
      ],
      "text/plain": [
       "<IPython.core.display.Markdown object>"
      ]
     },
     "metadata": {},
     "output_type": "display_data"
    },
    {
     "name": "stdout",
     "output_type": "stream",
     "text": [
      "--------------------\n",
      "[3250 3550]\n",
      "\n",
      "t-test between control & diff [3250 3550]\n",
      "p-value 0.3519\n",
      "N1: 13  N2: 12\n",
      "\n",
      "t-test between control & guess [3250 3550]\n",
      "N1: 13  N2: 12\n",
      "p-value 0.2067\n",
      "\n",
      "t-test between diff & guess[3250 3550]\n",
      "p-value 0.046\n",
      "N1: 12  N2: 12\n"
     ]
    },
    {
     "data": {
      "text/markdown": [
       "<font color='green'>There is a statistical difference between the means</font>"
      ],
      "text/plain": [
       "<IPython.core.display.Markdown object>"
      ]
     },
     "metadata": {},
     "output_type": "display_data"
    },
    {
     "name": "stdout",
     "output_type": "stream",
     "text": [
      "--------------------\n",
      "[3300 3600]\n",
      "\n",
      "t-test between control & diff [3300 3600]\n",
      "p-value 0.3101\n",
      "N1: 13  N2: 12\n",
      "\n",
      "t-test between control & guess [3300 3600]\n",
      "N1: 13  N2: 12\n",
      "p-value 0.2195\n",
      "\n",
      "t-test between diff & guess[3300 3600]\n",
      "p-value 0.0461\n",
      "N1: 12  N2: 12\n"
     ]
    },
    {
     "data": {
      "text/markdown": [
       "<font color='green'>There is a statistical difference between the means</font>"
      ],
      "text/plain": [
       "<IPython.core.display.Markdown object>"
      ]
     },
     "metadata": {},
     "output_type": "display_data"
    },
    {
     "name": "stdout",
     "output_type": "stream",
     "text": [
      "--------------------\n",
      "[3350 3650]\n",
      "\n",
      "t-test between control & diff [3350 3650]\n",
      "p-value 0.2243\n",
      "N1: 13  N2: 12\n",
      "\n",
      "t-test between control & guess [3350 3650]\n",
      "N1: 13  N2: 12\n",
      "p-value 0.2861\n",
      "\n",
      "t-test between diff & guess[3350 3650]\n",
      "p-value 0.0405\n",
      "N1: 12  N2: 12\n"
     ]
    },
    {
     "data": {
      "text/markdown": [
       "<font color='green'>There is a statistical difference between the means</font>"
      ],
      "text/plain": [
       "<IPython.core.display.Markdown object>"
      ]
     },
     "metadata": {},
     "output_type": "display_data"
    },
    {
     "name": "stdout",
     "output_type": "stream",
     "text": [
      "--------------------\n",
      "[3400 3700]\n",
      "\n",
      "t-test between control & diff [3400 3700]\n",
      "p-value 0.207\n",
      "N1: 13  N2: 12\n",
      "\n",
      "t-test between control & guess [3400 3700]\n",
      "N1: 13  N2: 12\n",
      "p-value 0.3505\n",
      "\n",
      "t-test between diff & guess[3400 3700]\n",
      "p-value 0.0388\n",
      "N1: 12  N2: 12\n"
     ]
    },
    {
     "data": {
      "text/markdown": [
       "<font color='green'>There is a statistical difference between the means</font>"
      ],
      "text/plain": [
       "<IPython.core.display.Markdown object>"
      ]
     },
     "metadata": {},
     "output_type": "display_data"
    },
    {
     "name": "stdout",
     "output_type": "stream",
     "text": [
      "--------------------\n",
      "[3450 3750]\n",
      "[3500 3800]\n",
      "[3550 3850]\n",
      "[3600 3900]\n",
      "[3650 3950]\n",
      "[3700 4000]\n",
      "[3750 4050]\n",
      "[3800 4100]\n",
      "[3850 4150]\n",
      "[3900 4200]\n",
      "[3950 4250]\n",
      "\n",
      "t-test between control & diff [3950 4250]\n",
      "p-value 0.5631\n",
      "N1: 13  N2: 12\n",
      "\n",
      "t-test between control & guess [3950 4250]\n",
      "N1: 13  N2: 12\n",
      "p-value 0.0222\n"
     ]
    },
    {
     "data": {
      "text/markdown": [
       "<font color='green'>There is a statistical difference between the means</font>"
      ],
      "text/plain": [
       "<IPython.core.display.Markdown object>"
      ]
     },
     "metadata": {},
     "output_type": "display_data"
    },
    {
     "name": "stdout",
     "output_type": "stream",
     "text": [
      "\n",
      "t-test between diff & guess[3950 4250]\n",
      "p-value 0.3523\n",
      "N1: 12  N2: 12\n",
      "--------------------\n",
      "[4000 4300]\n",
      "\n",
      "t-test between control & diff [4000 4300]\n",
      "p-value 0.5493\n",
      "N1: 13  N2: 12\n",
      "\n",
      "t-test between control & guess [4000 4300]\n",
      "N1: 13  N2: 12\n",
      "p-value 0.0135\n"
     ]
    },
    {
     "data": {
      "text/markdown": [
       "<font color='green'>There is a statistical difference between the means</font>"
      ],
      "text/plain": [
       "<IPython.core.display.Markdown object>"
      ]
     },
     "metadata": {},
     "output_type": "display_data"
    },
    {
     "name": "stdout",
     "output_type": "stream",
     "text": [
      "\n",
      "t-test between diff & guess[4000 4300]\n",
      "p-value 0.2545\n",
      "N1: 12  N2: 12\n",
      "--------------------\n",
      "[4050 4350]\n",
      "\n",
      "t-test between control & diff [4050 4350]\n",
      "p-value 0.4705\n",
      "N1: 13  N2: 12\n",
      "\n",
      "t-test between control & guess [4050 4350]\n",
      "N1: 13  N2: 12\n",
      "p-value 0.0136\n"
     ]
    },
    {
     "data": {
      "text/markdown": [
       "<font color='green'>There is a statistical difference between the means</font>"
      ],
      "text/plain": [
       "<IPython.core.display.Markdown object>"
      ]
     },
     "metadata": {},
     "output_type": "display_data"
    },
    {
     "name": "stdout",
     "output_type": "stream",
     "text": [
      "\n",
      "t-test between diff & guess[4050 4350]\n",
      "p-value 0.2533\n",
      "N1: 12  N2: 12\n",
      "--------------------\n",
      "[4100 4400]\n",
      "\n",
      "t-test between control & diff [4100 4400]\n",
      "p-value 0.2741\n",
      "N1: 13  N2: 12\n",
      "\n",
      "t-test between control & guess [4100 4400]\n",
      "N1: 13  N2: 12\n",
      "p-value 0.0136\n"
     ]
    },
    {
     "data": {
      "text/markdown": [
       "<font color='green'>There is a statistical difference between the means</font>"
      ],
      "text/plain": [
       "<IPython.core.display.Markdown object>"
      ]
     },
     "metadata": {},
     "output_type": "display_data"
    },
    {
     "name": "stdout",
     "output_type": "stream",
     "text": [
      "\n",
      "t-test between diff & guess[4100 4400]\n",
      "p-value 0.3609\n",
      "N1: 12  N2: 12\n",
      "--------------------\n",
      "[4150 4450]\n",
      "\n",
      "t-test between control & diff [4150 4450]\n",
      "p-value 0.2544\n",
      "N1: 13  N2: 12\n",
      "\n",
      "t-test between control & guess [4150 4450]\n",
      "N1: 13  N2: 12\n",
      "p-value 0.0256\n"
     ]
    },
    {
     "data": {
      "text/markdown": [
       "<font color='green'>There is a statistical difference between the means</font>"
      ],
      "text/plain": [
       "<IPython.core.display.Markdown object>"
      ]
     },
     "metadata": {},
     "output_type": "display_data"
    },
    {
     "name": "stdout",
     "output_type": "stream",
     "text": [
      "\n",
      "t-test between diff & guess[4150 4450]\n",
      "p-value 0.5214\n",
      "N1: 12  N2: 12\n",
      "--------------------\n",
      "[4200 4500]\n",
      "[4250 4550]\n",
      "[4300 4600]\n",
      "[4350 4650]\n",
      "[4400 4700]\n",
      "[4450 4750]\n",
      "[4500 4800]\n",
      "\n",
      "t-test between control & diff [4500 4800]\n",
      "p-value 0.0598\n",
      "N1: 13  N2: 11\n",
      "\n",
      "t-test between control & guess [4500 4800]\n",
      "N1: 13  N2: 11\n",
      "p-value 0.5242\n",
      "\n",
      "t-test between diff & guess[4500 4800]\n",
      "p-value 0.0146\n",
      "N1: 11  N2: 11\n"
     ]
    },
    {
     "data": {
      "text/markdown": [
       "<font color='green'>There is a statistical difference between the means</font>"
      ],
      "text/plain": [
       "<IPython.core.display.Markdown object>"
      ]
     },
     "metadata": {},
     "output_type": "display_data"
    },
    {
     "name": "stdout",
     "output_type": "stream",
     "text": [
      "--------------------\n",
      "[4550 4850]\n",
      "\n",
      "t-test between control & diff [4550 4850]\n",
      "p-value 0.1043\n",
      "N1: 13  N2: 11\n",
      "\n",
      "t-test between control & guess [4550 4850]\n",
      "N1: 13  N2: 11\n",
      "p-value 0.2506\n",
      "\n",
      "t-test between diff & guess[4550 4850]\n",
      "p-value 0.0172\n",
      "N1: 11  N2: 11\n"
     ]
    },
    {
     "data": {
      "text/markdown": [
       "<font color='green'>There is a statistical difference between the means</font>"
      ],
      "text/plain": [
       "<IPython.core.display.Markdown object>"
      ]
     },
     "metadata": {},
     "output_type": "display_data"
    },
    {
     "name": "stdout",
     "output_type": "stream",
     "text": [
      "--------------------\n",
      "[4600 4900]\n",
      "\n",
      "t-test between control & diff [4600 4900]\n",
      "p-value 0.2145\n",
      "N1: 13  N2: 11\n",
      "\n",
      "t-test between control & guess [4600 4900]\n",
      "N1: 13  N2: 11\n",
      "p-value 0.0613\n",
      "\n",
      "t-test between diff & guess[4600 4900]\n",
      "p-value 0.0113\n",
      "N1: 11  N2: 11\n"
     ]
    },
    {
     "data": {
      "text/markdown": [
       "<font color='green'>There is a statistical difference between the means</font>"
      ],
      "text/plain": [
       "<IPython.core.display.Markdown object>"
      ]
     },
     "metadata": {},
     "output_type": "display_data"
    },
    {
     "name": "stdout",
     "output_type": "stream",
     "text": [
      "--------------------\n",
      "[4650 4950]\n",
      "\n",
      "t-test between control & diff [4650 4950]\n",
      "p-value 0.415\n",
      "N1: 13  N2: 11\n",
      "\n",
      "t-test between control & guess [4650 4950]\n",
      "N1: 13  N2: 11\n",
      "p-value 0.0273\n"
     ]
    },
    {
     "data": {
      "text/markdown": [
       "<font color='green'>There is a statistical difference between the means</font>"
      ],
      "text/plain": [
       "<IPython.core.display.Markdown object>"
      ]
     },
     "metadata": {},
     "output_type": "display_data"
    },
    {
     "name": "stdout",
     "output_type": "stream",
     "text": [
      "\n",
      "t-test between diff & guess[4650 4950]\n",
      "p-value 0.0109\n",
      "N1: 11  N2: 11\n"
     ]
    },
    {
     "data": {
      "text/markdown": [
       "<font color='green'>There is a statistical difference between the means</font>"
      ],
      "text/plain": [
       "<IPython.core.display.Markdown object>"
      ]
     },
     "metadata": {},
     "output_type": "display_data"
    },
    {
     "name": "stdout",
     "output_type": "stream",
     "text": [
      "--------------------\n",
      "[4700 5000]\n",
      "\n",
      "t-test between control & diff [4700 5000]\n",
      "p-value 0.5593\n",
      "N1: 13  N2: 11\n",
      "\n",
      "t-test between control & guess [4700 5000]\n",
      "N1: 13  N2: 11\n",
      "p-value 0.064\n",
      "\n",
      "t-test between diff & guess[4700 5000]\n",
      "p-value 0.0182\n",
      "N1: 11  N2: 11\n"
     ]
    },
    {
     "data": {
      "text/markdown": [
       "<font color='green'>There is a statistical difference between the means</font>"
      ],
      "text/plain": [
       "<IPython.core.display.Markdown object>"
      ]
     },
     "metadata": {},
     "output_type": "display_data"
    },
    {
     "name": "stdout",
     "output_type": "stream",
     "text": [
      "--------------------\n",
      "[4750 5050]\n",
      "[4800 5100]\n",
      "[4850 5150]\n",
      "[4900 5200]\n",
      "[4950 5250]\n",
      "[5000 5300]\n",
      "[5050 5350]\n",
      "[5100 5400]\n",
      "\n",
      "t-test between control & diff [5100 5400]\n",
      "p-value 0.6974\n",
      "N1: 13  N2: 11\n",
      "\n",
      "t-test between control & guess [5100 5400]\n",
      "N1: 13  N2: 10\n",
      "p-value 0.0435\n"
     ]
    },
    {
     "data": {
      "text/markdown": [
       "<font color='green'>There is a statistical difference between the means</font>"
      ],
      "text/plain": [
       "<IPython.core.display.Markdown object>"
      ]
     },
     "metadata": {},
     "output_type": "display_data"
    },
    {
     "name": "stdout",
     "output_type": "stream",
     "text": [
      "\n",
      "t-test between diff & guess[5100 5400]\n",
      "p-value 0.0438\n",
      "N1: 11  N2: 10\n"
     ]
    },
    {
     "data": {
      "text/markdown": [
       "<font color='green'>There is a statistical difference between the means</font>"
      ],
      "text/plain": [
       "<IPython.core.display.Markdown object>"
      ]
     },
     "metadata": {},
     "output_type": "display_data"
    },
    {
     "name": "stdout",
     "output_type": "stream",
     "text": [
      "--------------------\n",
      "[5150 5450]\n",
      "[5200 5500]\n",
      "[5250 5550]\n",
      "[5300 5600]\n",
      "[5350 5650]\n",
      "[5400 5700]\n",
      "[5450 5750]\n",
      "[5500 5800]\n",
      "[5550 5850]\n",
      "[5600 5900]\n",
      "[5650 5950]\n",
      "[5700 6000]\n",
      "[5750 6050]\n",
      "[5800 6100]\n",
      "[5850 6150]\n",
      "[5900 6200]\n",
      "[5950 6250]\n",
      "[6000 6300]\n",
      "[6050 6350]\n",
      "\n",
      "t-test between control & diff [6050 6350]\n",
      "p-value 0.2229\n",
      "N1: 7  N2: 9\n",
      "\n",
      "t-test between control & guess [6050 6350]\n",
      "N1: 7  N2: 3\n",
      "p-value 0.2713\n",
      "\n",
      "t-test between diff & guess[6050 6350]\n",
      "p-value 0.0461\n",
      "N1: 9  N2: 3\n"
     ]
    },
    {
     "data": {
      "text/markdown": [
       "<font color='green'>There is a statistical difference between the means</font>"
      ],
      "text/plain": [
       "<IPython.core.display.Markdown object>"
      ]
     },
     "metadata": {},
     "output_type": "display_data"
    },
    {
     "name": "stdout",
     "output_type": "stream",
     "text": [
      "--------------------\n",
      "[6100 6400]\n",
      "\n",
      "t-test between control & diff [6100 6400]\n",
      "p-value 0.1733\n",
      "N1: 7  N2: 9\n",
      "\n",
      "t-test between control & guess [6100 6400]\n",
      "N1: 7  N2: 3\n",
      "p-value 0.3259\n",
      "\n",
      "t-test between diff & guess[6100 6400]\n",
      "p-value 0.0482\n",
      "N1: 9  N2: 3\n"
     ]
    },
    {
     "data": {
      "text/markdown": [
       "<font color='green'>There is a statistical difference between the means</font>"
      ],
      "text/plain": [
       "<IPython.core.display.Markdown object>"
      ]
     },
     "metadata": {},
     "output_type": "display_data"
    },
    {
     "name": "stdout",
     "output_type": "stream",
     "text": [
      "--------------------\n",
      "[6150 6450]\n",
      "\n",
      "t-test between control & diff [6150 6450]\n",
      "p-value 0.0801\n",
      "N1: 7  N2: 9\n",
      "\n",
      "t-test between control & guess [6150 6450]\n",
      "N1: 7  N2: 3\n",
      "p-value 0.4387\n",
      "\n",
      "t-test between diff & guess[6150 6450]\n",
      "p-value 0.0365\n",
      "N1: 9  N2: 3\n"
     ]
    },
    {
     "data": {
      "text/markdown": [
       "<font color='green'>There is a statistical difference between the means</font>"
      ],
      "text/plain": [
       "<IPython.core.display.Markdown object>"
      ]
     },
     "metadata": {},
     "output_type": "display_data"
    },
    {
     "name": "stdout",
     "output_type": "stream",
     "text": [
      "--------------------\n",
      "[6200 6500]\n",
      "\n",
      "t-test between control & diff [6200 6500]\n",
      "p-value 0.0369\n",
      "N1: 7  N2: 9\n"
     ]
    },
    {
     "data": {
      "text/markdown": [
       "<font color='green'>There is a statistical difference between the means</font>"
      ],
      "text/plain": [
       "<IPython.core.display.Markdown object>"
      ]
     },
     "metadata": {},
     "output_type": "display_data"
    },
    {
     "name": "stdout",
     "output_type": "stream",
     "text": [
      "\n",
      "t-test between control & guess [6200 6500]\n",
      "N1: 7  N2: 3\n",
      "p-value 0.6754\n",
      "\n",
      "t-test between diff & guess[6200 6500]\n",
      "p-value 0.0493\n",
      "N1: 9  N2: 3\n"
     ]
    },
    {
     "data": {
      "text/markdown": [
       "<font color='green'>There is a statistical difference between the means</font>"
      ],
      "text/plain": [
       "<IPython.core.display.Markdown object>"
      ]
     },
     "metadata": {},
     "output_type": "display_data"
    },
    {
     "name": "stdout",
     "output_type": "stream",
     "text": [
      "--------------------\n",
      "[6250 6550]\n",
      "\n",
      "t-test between control & diff [6250 6550]\n",
      "p-value 0.0293\n",
      "N1: 7  N2: 9\n"
     ]
    },
    {
     "data": {
      "text/markdown": [
       "<font color='green'>There is a statistical difference between the means</font>"
      ],
      "text/plain": [
       "<IPython.core.display.Markdown object>"
      ]
     },
     "metadata": {},
     "output_type": "display_data"
    },
    {
     "name": "stdout",
     "output_type": "stream",
     "text": [
      "\n",
      "t-test between control & guess [6250 6550]\n",
      "N1: 7  N2: 3\n",
      "p-value 0.9403\n",
      "\n",
      "t-test between diff & guess[6250 6550]\n",
      "p-value 0.0907\n",
      "N1: 9  N2: 3\n",
      "--------------------\n",
      "[6300 6600]\n",
      "[6350 6650]\n",
      "[6400 6700]\n",
      "\n",
      "t-test between control & diff [6400 6700]\n",
      "p-value 0.1421\n",
      "N1: 7  N2: 9\n",
      "\n",
      "t-test between control & guess [6400 6700]\n",
      "N1: 7  N2: 3\n",
      "p-value 0.3616\n",
      "\n",
      "t-test between diff & guess[6400 6700]\n",
      "p-value 0.0333\n",
      "N1: 9  N2: 3\n"
     ]
    },
    {
     "data": {
      "text/markdown": [
       "<font color='green'>There is a statistical difference between the means</font>"
      ],
      "text/plain": [
       "<IPython.core.display.Markdown object>"
      ]
     },
     "metadata": {},
     "output_type": "display_data"
    },
    {
     "name": "stdout",
     "output_type": "stream",
     "text": [
      "--------------------\n",
      "[6450 6750]\n",
      "\n",
      "t-test between control & diff [6450 6750]\n",
      "p-value 0.0874\n",
      "N1: 7  N2: 9\n",
      "\n",
      "t-test between control & guess [6450 6750]\n",
      "N1: 7  N2: 3\n",
      "p-value 0.1168\n",
      "\n",
      "t-test between diff & guess[6450 6750]\n",
      "p-value 0.0007\n",
      "N1: 9  N2: 3\n"
     ]
    },
    {
     "data": {
      "text/markdown": [
       "<font color='green'>There is a statistical difference between the means</font>"
      ],
      "text/plain": [
       "<IPython.core.display.Markdown object>"
      ]
     },
     "metadata": {},
     "output_type": "display_data"
    },
    {
     "name": "stdout",
     "output_type": "stream",
     "text": [
      "--------------------\n",
      "[6500 6800]\n",
      "\n",
      "t-test between control & diff [6500 6800]\n",
      "p-value 0.1048\n",
      "N1: 7  N2: 9\n",
      "\n",
      "t-test between control & guess [6500 6800]\n",
      "N1: 7  N2: 3\n",
      "p-value 0.155\n",
      "\n",
      "t-test between diff & guess[6500 6800]\n",
      "p-value 0.0012\n",
      "N1: 9  N2: 3\n"
     ]
    },
    {
     "data": {
      "text/markdown": [
       "<font color='green'>There is a statistical difference between the means</font>"
      ],
      "text/plain": [
       "<IPython.core.display.Markdown object>"
      ]
     },
     "metadata": {},
     "output_type": "display_data"
    },
    {
     "name": "stdout",
     "output_type": "stream",
     "text": [
      "--------------------\n",
      "[6550 6850]\n",
      "\n",
      "t-test between control & diff [6550 6850]\n",
      "p-value 0.0883\n",
      "N1: 7  N2: 9\n",
      "\n",
      "t-test between control & guess [6550 6850]\n",
      "N1: 7  N2: 3\n",
      "p-value 0.1489\n",
      "\n",
      "t-test between diff & guess[6550 6850]\n",
      "p-value 0.0025\n",
      "N1: 9  N2: 3\n"
     ]
    },
    {
     "data": {
      "text/markdown": [
       "<font color='green'>There is a statistical difference between the means</font>"
      ],
      "text/plain": [
       "<IPython.core.display.Markdown object>"
      ]
     },
     "metadata": {},
     "output_type": "display_data"
    },
    {
     "name": "stdout",
     "output_type": "stream",
     "text": [
      "--------------------\n",
      "[6600 6900]\n",
      "[6650 6950]\n",
      "[6700 7000]\n",
      "\n",
      "t-test between control & diff [6700 7000]\n",
      "p-value 0.5672\n",
      "N1: 7  N2: 9\n",
      "\n",
      "t-test between control & guess [6700 7000]\n",
      "N1: 7  N2: 3\n",
      "p-value 0.132\n",
      "\n",
      "t-test between diff & guess[6700 7000]\n",
      "p-value 0.0308\n",
      "N1: 9  N2: 3\n"
     ]
    },
    {
     "data": {
      "text/markdown": [
       "<font color='green'>There is a statistical difference between the means</font>"
      ],
      "text/plain": [
       "<IPython.core.display.Markdown object>"
      ]
     },
     "metadata": {},
     "output_type": "display_data"
    },
    {
     "name": "stdout",
     "output_type": "stream",
     "text": [
      "--------------------\n",
      "[6750 7050]\n",
      "[6800 7100]\n",
      "[6850 7150]\n",
      "[6900 7200]\n",
      "\n",
      "t-test between control & diff [6900 7200]\n",
      "p-value 0.0154\n",
      "N1: 7  N2: 8\n"
     ]
    },
    {
     "data": {
      "text/markdown": [
       "<font color='green'>There is a statistical difference between the means</font>"
      ],
      "text/plain": [
       "<IPython.core.display.Markdown object>"
      ]
     },
     "metadata": {},
     "output_type": "display_data"
    },
    {
     "name": "stdout",
     "output_type": "stream",
     "text": [
      "\n",
      "t-test between control & guess [6900 7200]\n",
      "N1: 7  N2: 3\n",
      "p-value 0.1532\n",
      "\n",
      "t-test between diff & guess[6900 7200]\n",
      "p-value 0.4606\n",
      "N1: 8  N2: 3\n",
      "--------------------\n",
      "[6950 7250]\n",
      "\n",
      "t-test between control & diff [6950 7250]\n",
      "p-value 0.0176\n",
      "N1: 7  N2: 8\n"
     ]
    },
    {
     "data": {
      "text/markdown": [
       "<font color='green'>There is a statistical difference between the means</font>"
      ],
      "text/plain": [
       "<IPython.core.display.Markdown object>"
      ]
     },
     "metadata": {},
     "output_type": "display_data"
    },
    {
     "name": "stdout",
     "output_type": "stream",
     "text": [
      "\n",
      "t-test between control & guess [6950 7250]\n",
      "N1: 7  N2: 3\n",
      "p-value 0.0723\n",
      "\n",
      "t-test between diff & guess[6950 7250]\n",
      "p-value 0.3746\n",
      "N1: 8  N2: 3\n",
      "--------------------\n",
      "[7000 7300]\n",
      "\n",
      "t-test between control & diff [7000 7300]\n",
      "p-value 0.0305\n",
      "N1: 7  N2: 8\n"
     ]
    },
    {
     "data": {
      "text/markdown": [
       "<font color='green'>There is a statistical difference between the means</font>"
      ],
      "text/plain": [
       "<IPython.core.display.Markdown object>"
      ]
     },
     "metadata": {},
     "output_type": "display_data"
    },
    {
     "name": "stdout",
     "output_type": "stream",
     "text": [
      "\n",
      "t-test between control & guess [7000 7300]\n",
      "N1: 7  N2: 3\n",
      "p-value 0.0389\n"
     ]
    },
    {
     "data": {
      "text/markdown": [
       "<font color='green'>There is a statistical difference between the means</font>"
      ],
      "text/plain": [
       "<IPython.core.display.Markdown object>"
      ]
     },
     "metadata": {},
     "output_type": "display_data"
    },
    {
     "name": "stdout",
     "output_type": "stream",
     "text": [
      "\n",
      "t-test between diff & guess[7000 7300]\n",
      "p-value 0.2301\n",
      "N1: 8  N2: 3\n",
      "--------------------\n",
      "[7050 7350]\n",
      "\n",
      "t-test between control & diff [7050 7350]\n",
      "p-value 0.087\n",
      "N1: 7  N2: 8\n",
      "\n",
      "t-test between control & guess [7050 7350]\n",
      "N1: 7  N2: 3\n",
      "p-value 0.0454\n"
     ]
    },
    {
     "data": {
      "text/markdown": [
       "<font color='green'>There is a statistical difference between the means</font>"
      ],
      "text/plain": [
       "<IPython.core.display.Markdown object>"
      ]
     },
     "metadata": {},
     "output_type": "display_data"
    },
    {
     "name": "stdout",
     "output_type": "stream",
     "text": [
      "\n",
      "t-test between diff & guess[7050 7350]\n",
      "p-value 0.1213\n",
      "N1: 8  N2: 3\n",
      "--------------------\n",
      "[7100 7400]\n",
      "[7150 7450]\n",
      "[7200 7500]\n",
      "[7250 7550]\n",
      "[7300 7600]\n",
      "\n",
      "t-test between control & diff [7300 7600]\n",
      "p-value 0.0443\n",
      "N1: 7  N2: 8\n"
     ]
    },
    {
     "data": {
      "text/markdown": [
       "<font color='green'>There is a statistical difference between the means</font>"
      ],
      "text/plain": [
       "<IPython.core.display.Markdown object>"
      ]
     },
     "metadata": {},
     "output_type": "display_data"
    },
    {
     "name": "stdout",
     "output_type": "stream",
     "text": [
      "\n",
      "t-test between control & guess [7300 7600]\n",
      "N1: 7  N2: 3\n",
      "p-value 0.2973\n",
      "\n",
      "t-test between diff & guess[7300 7600]\n",
      "p-value 0.43\n",
      "N1: 8  N2: 3\n",
      "--------------------\n",
      "[7350 7650]\n",
      "\n",
      "t-test between control & diff [7350 7650]\n",
      "p-value 0.0298\n",
      "N1: 7  N2: 8\n"
     ]
    },
    {
     "data": {
      "text/markdown": [
       "<font color='green'>There is a statistical difference between the means</font>"
      ],
      "text/plain": [
       "<IPython.core.display.Markdown object>"
      ]
     },
     "metadata": {},
     "output_type": "display_data"
    },
    {
     "name": "stdout",
     "output_type": "stream",
     "text": [
      "\n",
      "t-test between control & guess [7350 7650]\n",
      "N1: 7  N2: 3\n",
      "p-value 0.4192\n",
      "\n",
      "t-test between diff & guess[7350 7650]\n",
      "p-value 0.3222\n",
      "N1: 8  N2: 3\n",
      "--------------------\n",
      "[7400 7700]\n",
      "\n",
      "t-test between control & diff [7400 7700]\n",
      "p-value 0.0308\n",
      "N1: 7  N2: 8\n"
     ]
    },
    {
     "data": {
      "text/markdown": [
       "<font color='green'>There is a statistical difference between the means</font>"
      ],
      "text/plain": [
       "<IPython.core.display.Markdown object>"
      ]
     },
     "metadata": {},
     "output_type": "display_data"
    },
    {
     "name": "stdout",
     "output_type": "stream",
     "text": [
      "\n",
      "t-test between control & guess [7400 7700]\n",
      "N1: 7  N2: 3\n",
      "p-value 0.3642\n",
      "\n",
      "t-test between diff & guess[7400 7700]\n",
      "p-value 0.3585\n",
      "N1: 8  N2: 3\n",
      "--------------------\n",
      "[7450 7750]\n",
      "\n",
      "t-test between control & diff [7450 7750]\n",
      "p-value 0.0314\n",
      "N1: 7  N2: 8\n"
     ]
    },
    {
     "data": {
      "text/markdown": [
       "<font color='green'>There is a statistical difference between the means</font>"
      ],
      "text/plain": [
       "<IPython.core.display.Markdown object>"
      ]
     },
     "metadata": {},
     "output_type": "display_data"
    },
    {
     "name": "stdout",
     "output_type": "stream",
     "text": [
      "\n",
      "t-test between control & guess [7450 7750]\n",
      "N1: 7  N2: 3\n",
      "p-value 0.4179\n",
      "\n",
      "t-test between diff & guess[7450 7750]\n",
      "p-value 0.3188\n",
      "N1: 8  N2: 3\n",
      "--------------------\n",
      "[7500 7800]\n",
      "\n",
      "t-test between control & diff [7500 7800]\n",
      "p-value 0.0334\n",
      "N1: 7  N2: 8\n"
     ]
    },
    {
     "data": {
      "text/markdown": [
       "<font color='green'>There is a statistical difference between the means</font>"
      ],
      "text/plain": [
       "<IPython.core.display.Markdown object>"
      ]
     },
     "metadata": {},
     "output_type": "display_data"
    },
    {
     "name": "stdout",
     "output_type": "stream",
     "text": [
      "\n",
      "t-test between control & guess [7500 7800]\n",
      "N1: 7  N2: 3\n",
      "p-value 0.5047\n",
      "\n",
      "t-test between diff & guess[7500 7800]\n",
      "p-value 0.2688\n",
      "N1: 8  N2: 3\n",
      "--------------------\n",
      "[7550 7850]\n",
      "\n",
      "t-test between control & diff [7550 7850]\n",
      "p-value 0.037\n",
      "N1: 7  N2: 8\n"
     ]
    },
    {
     "data": {
      "text/markdown": [
       "<font color='green'>There is a statistical difference between the means</font>"
      ],
      "text/plain": [
       "<IPython.core.display.Markdown object>"
      ]
     },
     "metadata": {},
     "output_type": "display_data"
    },
    {
     "name": "stdout",
     "output_type": "stream",
     "text": [
      "\n",
      "t-test between control & guess [7550 7850]\n",
      "N1: 7  N2: 3\n",
      "p-value 0.441\n",
      "\n",
      "t-test between diff & guess[7550 7850]\n",
      "p-value 0.3068\n",
      "N1: 8  N2: 3\n",
      "--------------------\n",
      "[7600 7900]\n",
      "\n",
      "t-test between control & diff [7600 7900]\n",
      "p-value 0.0245\n",
      "N1: 7  N2: 8\n"
     ]
    },
    {
     "data": {
      "text/markdown": [
       "<font color='green'>There is a statistical difference between the means</font>"
      ],
      "text/plain": [
       "<IPython.core.display.Markdown object>"
      ]
     },
     "metadata": {},
     "output_type": "display_data"
    },
    {
     "name": "stdout",
     "output_type": "stream",
     "text": [
      "\n",
      "t-test between control & guess [7600 7900]\n",
      "N1: 7  N2: 3\n",
      "p-value 0.2931\n",
      "\n",
      "t-test between diff & guess[7600 7900]\n",
      "p-value 0.3732\n",
      "N1: 8  N2: 3\n",
      "--------------------\n",
      "[7650 7950]\n",
      "\n",
      "t-test between control & diff [7650 7950]\n",
      "p-value 0.0074\n",
      "N1: 7  N2: 8\n"
     ]
    },
    {
     "data": {
      "text/markdown": [
       "<font color='green'>There is a statistical difference between the means</font>"
      ],
      "text/plain": [
       "<IPython.core.display.Markdown object>"
      ]
     },
     "metadata": {},
     "output_type": "display_data"
    },
    {
     "name": "stdout",
     "output_type": "stream",
     "text": [
      "\n",
      "t-test between control & guess [7650 7950]\n",
      "N1: 7  N2: 3\n",
      "p-value 0.1931\n",
      "\n",
      "t-test between diff & guess[7650 7950]\n",
      "p-value 0.1982\n",
      "N1: 8  N2: 3\n",
      "--------------------\n",
      "[7700 8000]\n",
      "\n",
      "t-test between control & diff [7700 8000]\n",
      "p-value 0.0206\n",
      "N1: 6  N2: 8\n"
     ]
    },
    {
     "data": {
      "text/markdown": [
       "<font color='green'>There is a statistical difference between the means</font>"
      ],
      "text/plain": [
       "<IPython.core.display.Markdown object>"
      ]
     },
     "metadata": {},
     "output_type": "display_data"
    },
    {
     "name": "stdout",
     "output_type": "stream",
     "text": [
      "\n",
      "t-test between control & guess [7700 8000]\n",
      "N1: 6  N2: 3\n",
      "p-value 0.2878\n",
      "\n",
      "t-test between diff & guess[7700 8000]\n",
      "p-value 0.2095\n",
      "N1: 8  N2: 3\n",
      "--------------------\n"
     ]
    }
   ],
   "source": [
    "def ttest_independent(samp_1, samp_2):\n",
    "    # Check if equal variances\n",
    "    s,p = stats.levene(samp_1, samp_2)\n",
    "    equal_var = True\n",
    "    if p < 0.05:\n",
    "      equal_var = False\n",
    "    \n",
    "    s,p = stats.ttest_ind(samp_1, samp_2, equal_var=equal_var)\n",
    "    \n",
    "    return {\n",
    "      \"p\": round(p, 4),\n",
    "      \"N1\": samp_1.count(),\n",
    "      \"N2\": samp_2.count(),\n",
    "    }\n",
    "\n",
    "#variable = \"speed\"   \n",
    "#variable = \"throttle_position\" \n",
    "variable = \"power_usage\" \n",
    "section_size = np.array([0,300])\n",
    "step_size = 50\n",
    "which_attempt = 1\n",
    "  \n",
    "section = section_size.copy()  \n",
    "while section[1] <= 8000:\n",
    "    print(section)\n",
    "    evis = \"diff_and_cope1\"\n",
    "    individual = average_individual[(average_individual.attempt == which_attempt) & (average_individual.evis_id == evis)] # Get one particular attempt and evis values\n",
    "    a1_mean_speeds_diff = individual.pivot(index=\"distance_window\", columns=\"user_id\", values=variable) # Get the average speeds for each distance window for each user\n",
    "\n",
    "    evis = \"guess_o_meter\"\n",
    "    individual = average_individual[(average_individual.attempt == which_attempt) & (average_individual.evis_id == evis)] # Get one particular attempt and evis values\n",
    "    a1_mean_speeds_guess = individual.pivot(index=\"distance_window\", columns=\"user_id\", values=variable) # Get the average speeds for each distance window for each user\n",
    "\n",
    "    evis = \"control_group\"\n",
    "    individual = average_individual[(average_individual.attempt == which_attempt) & (average_individual.evis_id == evis)] # Get one particular attempt and evis values\n",
    "    a1_mean_speeds_control = individual.pivot(index=\"distance_window\", columns=\"user_id\", values=variable) # Get the average speeds for each distance window for each user\n",
    "  \n",
    "    # Remove users who do not have data for the entire range and then calculate mean\n",
    "    a1_mean_speeds_diff_section = a1_mean_speeds_diff.loc[section[0]:section[1]].dropna(axis=1).mean()\n",
    "    a1_mean_speeds_guess_section = a1_mean_speeds_guess.loc[section[0]:section[1]].dropna(axis=1).mean()\n",
    "    a1_mean_speeds_control_section = a1_mean_speeds_control.loc[section[0]:section[1]].dropna(axis=1).mean()\n",
    "    \n",
    "    t_test_control_guess = ttest_independent(a1_mean_speeds_control_section, a1_mean_speeds_guess_section)\n",
    "    t_test_control_diff = ttest_independent(a1_mean_speeds_control_section, a1_mean_speeds_diff_section)\n",
    "    t_test_diff_guess = ttest_independent(a1_mean_speeds_diff_section, a1_mean_speeds_guess_section)\n",
    "    \n",
    "    any_one_found = False\n",
    "    if (t_test_control_diff[\"p\"] < 0.05 or t_test_control_guess[\"p\"] < 0.05 or  t_test_diff_guess[\"p\"] < 0.05):\n",
    "      any_one_found = True\n",
    "    \n",
    "    if any_one_found:\n",
    "      print(\"\\nt-test between control & diff \" + str(section))\n",
    "      print(\"p-value\", t_test_control_diff[\"p\"])\n",
    "      print(\"N1:\", t_test_control_diff[\"N1\"], \" N2:\", t_test_control_diff[\"N2\"])\n",
    "      if t_test_control_diff[\"p\"] < 0.05:\n",
    "        display(Markdown(\"<font color='green'>There is a statistical difference between the means</font>\"))\n",
    "      \n",
    "    if any_one_found:\n",
    "      print(\"\\nt-test between control & guess \" + str(section))\n",
    "      print(\"N1:\", t_test_control_guess[\"N1\"], \" N2:\", t_test_control_guess[\"N2\"])\n",
    "      print(\"p-value\", t_test_control_guess[\"p\"])\n",
    "      if t_test_control_guess[\"p\"] < 0.05:\n",
    "        display(Markdown(\"<font color='green'>There is a statistical difference between the means</font>\"))\n",
    "    \n",
    "    if any_one_found:\n",
    "      print(\"\\nt-test between diff & guess\" + str(section))\n",
    "      print(\"p-value\", t_test_diff_guess[\"p\"])\n",
    "      print(\"N1:\", t_test_diff_guess[\"N1\"], \" N2:\", t_test_diff_guess[\"N2\"])\n",
    "      if t_test_diff_guess[\"p\"] < 0.05:\n",
    "        display(Markdown(\"<font color='green'>There is a statistical difference between the means</font>\"))\n",
    "      \n",
    "    if any_one_found:\n",
    "      print(\"-\"*20)\n",
    "    \n",
    "    section += step_size\n",
    "      "
   ]
  },
  {
   "cell_type": "code",
   "execution_count": null,
   "id": "consolidated-retention",
   "metadata": {},
   "outputs": [],
   "source": []
  }
 ],
 "metadata": {
  "kernelspec": {
   "display_name": "Python 3",
   "language": "python",
   "name": "python3"
  },
  "language_info": {
   "codemirror_mode": {
    "name": "ipython",
    "version": 3
   },
   "file_extension": ".py",
   "mimetype": "text/x-python",
   "name": "python",
   "nbconvert_exporter": "python",
   "pygments_lexer": "ipython3",
   "version": "3.8.8"
  }
 },
 "nbformat": 4,
 "nbformat_minor": 5
}
