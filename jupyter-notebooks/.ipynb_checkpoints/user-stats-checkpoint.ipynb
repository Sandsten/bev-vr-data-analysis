{
 "cells": [
  {
   "cell_type": "code",
   "execution_count": 1,
   "id": "daily-reminder",
   "metadata": {},
   "outputs": [
    {
     "ename": "ModuleNotFoundError",
     "evalue": "No module named 'imgkit'",
     "output_type": "error",
     "traceback": [
      "\u001b[1;31m---------------------------------------------------------------------------\u001b[0m",
      "\u001b[1;31mModuleNotFoundError\u001b[0m                       Traceback (most recent call last)",
      "\u001b[1;32m<ipython-input-1-91f408a500eb>\u001b[0m in \u001b[0;36m<module>\u001b[1;34m\u001b[0m\n\u001b[0;32m      1\u001b[0m \u001b[1;32mimport\u001b[0m \u001b[0mpandas\u001b[0m \u001b[1;32mas\u001b[0m \u001b[0mpd\u001b[0m\u001b[1;33m\u001b[0m\u001b[1;33m\u001b[0m\u001b[0m\n\u001b[1;32m----> 2\u001b[1;33m \u001b[1;32mimport\u001b[0m \u001b[0mimgkit\u001b[0m\u001b[1;33m\u001b[0m\u001b[1;33m\u001b[0m\u001b[0m\n\u001b[0m\u001b[0;32m      3\u001b[0m \u001b[1;32mfrom\u001b[0m \u001b[0mIPython\u001b[0m\u001b[1;33m.\u001b[0m\u001b[0mdisplay\u001b[0m \u001b[1;32mimport\u001b[0m \u001b[0mdisplay\u001b[0m\u001b[1;33m\u001b[0m\u001b[1;33m\u001b[0m\u001b[0m\n",
      "\u001b[1;31mModuleNotFoundError\u001b[0m: No module named 'imgkit'"
     ]
    }
   ],
   "source": [
    "import pandas as pd\n",
    "from IPython.display import display"
   ]
  },
  {
   "cell_type": "code",
   "execution_count": null,
   "id": "comic-jurisdiction",
   "metadata": {},
   "outputs": [],
   "source": [
    "df_guess = pd.read_csv(\"../questionnaire/guess-o-meter-participants.csv\")\n",
    "df_diff = pd.read_csv(\"../questionnaire/diff-and-cope-participants.csv\")\n",
    "df_control = pd.read_csv(\"../questionnaire/controlgroup-participants.csv\")\n",
    "\n",
    "df_guess.rename(columns = {'Type':'EVIS'}, inplace = True)\n",
    "df_diff.rename(columns = {'Type':'EVIS'}, inplace = True)\n",
    "df_control.rename(columns = {'Type':'EVIS'}, inplace = True)"
   ]
  },
  {
   "cell_type": "code",
   "execution_count": null,
   "id": "wired-stress",
   "metadata": {},
   "outputs": [],
   "source": [
    "df = df_guess.append([df_diff, df_control])"
   ]
  },
  {
   "cell_type": "code",
   "execution_count": null,
   "id": "functioning-papua",
   "metadata": {},
   "outputs": [],
   "source": [
    "guess_excluded = [5,27,29]\n",
    "diff_excluded = [10,14,16]\n",
    "control_excluded = [34,42,45]"
   ]
  },
  {
   "cell_type": "code",
   "execution_count": null,
   "id": "particular-villa",
   "metadata": {},
   "outputs": [],
   "source": [
    "df_guess_excluded = df_guess[~df_guess.ID.isin(guess_excluded)]\n",
    "df_diff_excluded = df_diff[~df_diff.ID.isin(diff_excluded)]\n",
    "df_control_excluded = df_control[~df_control.ID.isin(control_excluded)]"
   ]
  },
  {
   "cell_type": "code",
   "execution_count": null,
   "id": "lasting-crazy",
   "metadata": {},
   "outputs": [],
   "source": [
    "df_excluded = df_guess_excluded.append([df_diff_excluded, df_control_excluded])"
   ]
  },
  {
   "cell_type": "markdown",
   "id": "systematic-tablet",
   "metadata": {},
   "source": [
    "# Nr of participants"
   ]
  },
  {
   "cell_type": "code",
   "execution_count": null,
   "id": "determined-citizen",
   "metadata": {},
   "outputs": [],
   "source": [
    "len(df_control)"
   ]
  },
  {
   "cell_type": "code",
   "execution_count": null,
   "id": "failing-night",
   "metadata": {},
   "outputs": [],
   "source": [
    "len(df_diff)"
   ]
  },
  {
   "cell_type": "code",
   "execution_count": null,
   "id": "robust-vacuum",
   "metadata": {},
   "outputs": [],
   "source": [
    "len(df_guess)"
   ]
  },
  {
   "cell_type": "code",
   "execution_count": null,
   "id": "polish-blake",
   "metadata": {},
   "outputs": [],
   "source": [
    "len(df_control) + len(df_diff) + len(df_guess)"
   ]
  },
  {
   "cell_type": "code",
   "execution_count": null,
   "id": "serious-executive",
   "metadata": {},
   "outputs": [],
   "source": [
    "len(df_control_excluded) + len(df_diff_excluded) + len(df_guess_excluded)"
   ]
  },
  {
   "cell_type": "code",
   "execution_count": null,
   "id": "convinced-warren",
   "metadata": {},
   "outputs": [],
   "source": [
    "len(df_control_excluded)"
   ]
  },
  {
   "cell_type": "code",
   "execution_count": null,
   "id": "established-interstate",
   "metadata": {},
   "outputs": [],
   "source": [
    "len(df_diff_excluded)"
   ]
  },
  {
   "cell_type": "code",
   "execution_count": null,
   "id": "photographic-atlas",
   "metadata": {},
   "outputs": [],
   "source": [
    "len(df_guess_excluded)"
   ]
  },
  {
   "cell_type": "code",
   "execution_count": null,
   "id": "renewable-madison",
   "metadata": {},
   "outputs": [],
   "source": [
    "df_control.groupby([\"Sex\"]).count()[[\"ID\"]]"
   ]
  },
  {
   "cell_type": "code",
   "execution_count": null,
   "id": "minute-encounter",
   "metadata": {},
   "outputs": [],
   "source": [
    "df_control_excluded.groupby([\"Sex\"]).count()[[\"ID\"]]"
   ]
  },
  {
   "cell_type": "code",
   "execution_count": null,
   "id": "thermal-township",
   "metadata": {},
   "outputs": [],
   "source": [
    "df_guess.groupby([\"Sex\"]).count()[[\"ID\"]]"
   ]
  },
  {
   "cell_type": "code",
   "execution_count": null,
   "id": "growing-peter",
   "metadata": {},
   "outputs": [],
   "source": [
    "df_guess_excluded.groupby([\"Sex\"]).count()[[\"ID\"]]"
   ]
  },
  {
   "cell_type": "code",
   "execution_count": null,
   "id": "freelance-proportion",
   "metadata": {},
   "outputs": [],
   "source": [
    "df_diff.groupby([\"Sex\"]).count()[[\"ID\"]]"
   ]
  },
  {
   "cell_type": "code",
   "execution_count": null,
   "id": "heard-thermal",
   "metadata": {},
   "outputs": [],
   "source": [
    "df_diff_excluded.groupby([\"Sex\"]).count()[[\"ID\"]]"
   ]
  },
  {
   "cell_type": "markdown",
   "id": "random-hobby",
   "metadata": {},
   "source": [
    "# Questionnaire answers"
   ]
  },
  {
   "cell_type": "code",
   "execution_count": null,
   "id": "sitting-yellow",
   "metadata": {},
   "outputs": [],
   "source": [
    "q1 = df_excluded.groupby(\"EVIS\").mean().round(1).drop(\"ID\",1).T\n",
    "q1.index.name = \"Question\"\n",
    "q1"
   ]
  },
  {
   "cell_type": "code",
   "execution_count": null,
   "id": "harmful-manual",
   "metadata": {},
   "outputs": [],
   "source": [
    "q = df_excluded.groupby(\"EVIS\").median().drop(\"ID\",1).T\n",
    "q.index.name = \"Question\"\n",
    "q"
   ]
  },
  {
   "cell_type": "code",
   "execution_count": null,
   "id": "hundred-constitutional",
   "metadata": {},
   "outputs": [],
   "source": [
    "q = df_excluded.groupby(\"EVIS\").std().round(1).drop(\"ID\",1).T\n",
    "q.index.name = \"Question\"\n",
    "q"
   ]
  },
  {
   "cell_type": "markdown",
   "id": "endangered-playlist",
   "metadata": {},
   "source": [
    "## Successful during attempt #1"
   ]
  },
  {
   "cell_type": "code",
   "execution_count": null,
   "id": "exciting-indonesian",
   "metadata": {},
   "outputs": [],
   "source": [
    "success_id = [6,  8,  9, 12, 13, 18, 20, 21, 24, 30, 35, 36, 40, 41, 46, 47]"
   ]
  },
  {
   "cell_type": "code",
   "execution_count": null,
   "id": "third-calibration",
   "metadata": {},
   "outputs": [],
   "source": [
    "len(success_id)"
   ]
  },
  {
   "cell_type": "code",
   "execution_count": null,
   "id": "equal-liabilities",
   "metadata": {},
   "outputs": [],
   "source": [
    "questionnaire_success = df_excluded[df_excluded.ID.isin(success_id)]\n",
    "questionnaire_success"
   ]
  },
  {
   "cell_type": "code",
   "execution_count": null,
   "id": "tight-freight",
   "metadata": {},
   "outputs": [],
   "source": [
    "len(questionnaire_success)"
   ]
  },
  {
   "cell_type": "markdown",
   "id": "medical-lambda",
   "metadata": {},
   "source": [
    "## Faield during attempt #1"
   ]
  },
  {
   "cell_type": "code",
   "execution_count": null,
   "id": "italic-productivity",
   "metadata": {},
   "outputs": [],
   "source": [
    "fails_id = [1,  2,  3,  4,  7, 11, 15, 17, 19, 22, 23, 25, 26, 28, 31, 32, 33, 37, 38, 39, 43, 44, 48, 49]"
   ]
  },
  {
   "cell_type": "code",
   "execution_count": null,
   "id": "amino-dublin",
   "metadata": {},
   "outputs": [],
   "source": [
    "len(fails_id)"
   ]
  },
  {
   "cell_type": "code",
   "execution_count": null,
   "id": "composed-oasis",
   "metadata": {},
   "outputs": [],
   "source": [
    "questionnaire_failed = df_excluded[df_excluded.ID.isin(fails_id)]\n",
    "type(questionnaire_failed)"
   ]
  },
  {
   "cell_type": "code",
   "execution_count": null,
   "id": "soviet-opposition",
   "metadata": {},
   "outputs": [],
   "source": []
  },
  {
   "cell_type": "code",
   "execution_count": null,
   "id": "governmental-directive",
   "metadata": {},
   "outputs": [],
   "source": [
    "len(questionnaire_failed)"
   ]
  },
  {
   "cell_type": "code",
   "execution_count": null,
   "id": "advance-collapse",
   "metadata": {},
   "outputs": [],
   "source": [
    "questionnaire_failed"
   ]
  },
  {
   "cell_type": "code",
   "execution_count": null,
   "id": "lonely-drunk",
   "metadata": {},
   "outputs": [],
   "source": [
    "pd.DataFrame(questionnaire_failed.mean()).T.round(1).drop(\"ID\", 1)"
   ]
  },
  {
   "cell_type": "code",
   "execution_count": null,
   "id": "induced-tragedy",
   "metadata": {},
   "outputs": [],
   "source": [
    "pd.DataFrame(questionnaire_success.mean()).T.round(1).drop(\"ID\", 1)"
   ]
  },
  {
   "cell_type": "code",
   "execution_count": null,
   "id": "informed-chosen",
   "metadata": {},
   "outputs": [],
   "source": []
  },
  {
   "cell_type": "code",
   "execution_count": null,
   "id": "everyday-yahoo",
   "metadata": {},
   "outputs": [],
   "source": [
    "pd.DataFrame(questionnaire_failed.median()).T.round(1).drop(\"ID\", 1)"
   ]
  },
  {
   "cell_type": "code",
   "execution_count": null,
   "id": "eight-ecology",
   "metadata": {},
   "outputs": [],
   "source": [
    "pd.DataFrame(questionnaire_success.median()).T.round(1).drop(\"ID\", 1)"
   ]
  }
 ],
 "metadata": {
  "kernelspec": {
   "display_name": "Python 3",
   "language": "python",
   "name": "python3"
  },
  "language_info": {
   "codemirror_mode": {
    "name": "ipython",
    "version": 3
   },
   "file_extension": ".py",
   "mimetype": "text/x-python",
   "name": "python",
   "nbconvert_exporter": "python",
   "pygments_lexer": "ipython3",
   "version": "3.8.8"
  }
 },
 "nbformat": 4,
 "nbformat_minor": 5
}
