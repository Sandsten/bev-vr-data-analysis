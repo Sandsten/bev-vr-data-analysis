{
 "cells": [
  {
   "cell_type": "code",
   "execution_count": 1,
   "id": "abroad-infrared",
   "metadata": {},
   "outputs": [],
   "source": [
    "from matplotlib import pyplot as plt"
   ]
  },
  {
   "cell_type": "code",
   "execution_count": 10,
   "id": "suspended-quick",
   "metadata": {},
   "outputs": [
    {
     "data": {
      "image/png": "[encoded data removed]",
      "text/plain": [
       "<Figure size 432x288 with 1 Axes>"
      ]
     },
     "metadata": {
      "needs_background": "light"
     },
     "output_type": "display_data"
    },
    {
     "data": {
      "text/plain": [
       "<Figure size 432x288 with 0 Axes>"
      ]
     },
     "metadata": {},
     "output_type": "display_data"
    }
   ],
   "source": [
    "plt.plot([1,2,3], [1,2,3])\n",
    "plt.plot([1,2,3], [-2,1,5])\n",
    "plt.xlabel(\"x-axis\")\n",
    "plt.ylabel(\"y-axix\")\n",
    "plt.title(\"title\")\n",
    "plt.legend([\"blue\", \"orange\"])\n",
    "#plt.show()\n",
    "plt.savefig(\"test-fig\", dpi=300)"
   ]
  },
  {
   "cell_type": "code",
   "execution_count": 7,
   "id": "given-breed",
   "metadata": {},
   "outputs": [
    {
     "data": {
      "text/plain": [
       "\u001b[0;31mSignature:\u001b[0m \u001b[0mplt\u001b[0m\u001b[0;34m.\u001b[0m\u001b[0msavefig\u001b[0m\u001b[0;34m(\u001b[0m\u001b[0;34m*\u001b[0m\u001b[0margs\u001b[0m\u001b[0;34m,\u001b[0m \u001b[0;34m**\u001b[0m\u001b[0mkwargs\u001b[0m\u001b[0;34m)\u001b[0m\u001b[0;34m\u001b[0m\u001b[0;34m\u001b[0m\u001b[0m\n",
       "\u001b[0;31mDocstring:\u001b[0m\n",
       "Save the current figure.\n",
       "\n",
       "Call signature::\n",
       "\n",
       "  savefig(fname, dpi=None, facecolor='w', edgecolor='w',\n",
       "          orientation='portrait', papertype=None, format=None,\n",
       "          transparent=False, bbox_inches=None, pad_inches=0.1,\n",
       "          frameon=None, metadata=None)\n",
       "\n",
       "The available output formats depend on the backend being used.\n",
       "\n",
       "Parameters\n",
       "----------\n",
       "fname : str or path-like or file-like\n",
       "    A path, or a Python file-like object, or\n",
       "    possibly some backend-dependent object such as\n",
       "    `matplotlib.backends.backend_pdf.PdfPages`.\n",
       "\n",
       "    If *format* is set, it determines the output format, and the file\n",
       "    is saved as *fname*.  Note that *fname* is used verbatim, and there\n",
       "    is no attempt to make the extension, if any, of *fname* match\n",
       "    *format*, and no extension is appended.\n",
       "\n",
       "    If *format* is not set, then the format is inferred from the\n",
       "    extension of *fname*, if there is one.  If *format* is not\n",
       "    set and *fname* has no extension, then the file is saved with\n",
       "    :rc:`savefig.format` and the appropriate extension is appended to\n",
       "    *fname*.\n",
       "\n",
       "Other Parameters\n",
       "----------------\n",
       "dpi : float or 'figure', default: :rc:`savefig.dpi`\n",
       "    The resolution in dots per inch.  If 'figure', use the figure's\n",
       "    dpi value.\n",
       "\n",
       "quality : int, default: :rc:`savefig.jpeg_quality`\n",
       "    Applicable only if *format* is 'jpg' or 'jpeg', ignored otherwise.\n",
       "\n",
       "    The image quality, on a scale from 1 (worst) to 95 (best).\n",
       "    Values above 95 should be avoided; 100 disables portions of\n",
       "    the JPEG compression algorithm, and results in large files\n",
       "    with hardly any gain in image quality.\n",
       "\n",
       "    This parameter is deprecated.\n",
       "\n",
       "optimize : bool, default: False\n",
       "    Applicable only if *format* is 'jpg' or 'jpeg', ignored otherwise.\n",
       "\n",
       "    Whether the encoder should make an extra pass over the image\n",
       "    in order to select optimal encoder settings.\n",
       "\n",
       "    This parameter is deprecated.\n",
       "\n",
       "progressive : bool, default: False\n",
       "    Applicable only if *format* is 'jpg' or 'jpeg', ignored otherwise.\n",
       "\n",
       "    Whether the image should be stored as a progressive JPEG file.\n",
       "\n",
       "    This parameter is deprecated.\n",
       "\n",
       "facecolor : color or 'auto', default: :rc:`savefig.facecolor`\n",
       "    The facecolor of the figure.  If 'auto', use the current figure\n",
       "    facecolor.\n",
       "\n",
       "edgecolor : color or 'auto', default: :rc:`savefig.edgecolor`\n",
       "    The edgecolor of the figure.  If 'auto', use the current figure\n",
       "    edgecolor.\n",
       "\n",
       "orientation : {'landscape', 'portrait'}\n",
       "    Currently only supported by the postscript backend.\n",
       "\n",
       "papertype : str\n",
       "    One of 'letter', 'legal', 'executive', 'ledger', 'a0' through\n",
       "    'a10', 'b0' through 'b10'. Only supported for postscript\n",
       "    output.\n",
       "\n",
       "format : str\n",
       "    The file format, e.g. 'png', 'pdf', 'svg', ... The behavior when\n",
       "    this is unset is documented under *fname*.\n",
       "\n",
       "transparent : bool\n",
       "    If *True*, the axes patches will all be transparent; the\n",
       "    figure patch will also be transparent unless facecolor\n",
       "    and/or edgecolor are specified via kwargs.\n",
       "    This is useful, for example, for displaying\n",
       "    a plot on top of a colored background on a web page.  The\n",
       "    transparency of these patches will be restored to their\n",
       "    original values upon exit of this function.\n",
       "\n",
       "bbox_inches : str or `.Bbox`, default: :rc:`savefig.bbox`\n",
       "    Bounding box in inches: only the given portion of the figure is\n",
       "    saved.  If 'tight', try to figure out the tight bbox of the figure.\n",
       "\n",
       "pad_inches : float, default: :rc:`savefig.pad_inches`\n",
       "    Amount of padding around the figure when bbox_inches is 'tight'.\n",
       "\n",
       "bbox_extra_artists : list of `~matplotlib.artist.Artist`, optional\n",
       "    A list of extra artists that will be considered when the\n",
       "    tight bbox is calculated.\n",
       "\n",
       "backend : str, optional\n",
       "    Use a non-default backend to render the file, e.g. to render a\n",
       "    png file with the \"cairo\" backend rather than the default \"agg\",\n",
       "    or a pdf file with the \"pgf\" backend rather than the default\n",
       "    \"pdf\".  Note that the default backend is normally sufficient.  See\n",
       "    :ref:`the-builtin-backends` for a list of valid backends for each\n",
       "    file format.  Custom backends can be referenced as \"module://...\".\n",
       "\n",
       "metadata : dict, optional\n",
       "    Key/value pairs to store in the image metadata. The supported keys\n",
       "    and defaults depend on the image format and backend:\n",
       "\n",
       "    - 'png' with Agg backend: See the parameter ``metadata`` of\n",
       "      `~.FigureCanvasAgg.print_png`.\n",
       "    - 'pdf' with pdf backend: See the parameter ``metadata`` of\n",
       "      `~.backend_pdf.PdfPages`.\n",
       "    - 'svg' with svg backend: See the parameter ``metadata`` of\n",
       "      `~.FigureCanvasSVG.print_svg`.\n",
       "    - 'eps' and 'ps' with PS backend: Only 'Creator' is supported.\n",
       "\n",
       "pil_kwargs : dict, optional\n",
       "    Additional keyword arguments that are passed to\n",
       "    `PIL.Image.Image.save` when saving the figure.\n",
       "\u001b[0;31mFile:\u001b[0m      ~/anaconda3/lib/python3.8/site-packages/matplotlib/pyplot.py\n",
       "\u001b[0;31mType:\u001b[0m      function\n"
      ]
     },
     "metadata": {},
     "output_type": "display_data"
    }
   ],
   "source": [
    "?plt.savefig"
   ]
  },
  {
   "cell_type": "code",
   "execution_count": null,
   "id": "black-white",
   "metadata": {},
   "outputs": [],
   "source": []
  }
 ],
 "metadata": {
  "kernelspec": {
   "display_name": "Python 3",
   "language": "python",
   "name": "python3"
  },
  "language_info": {
   "codemirror_mode": {
    "name": "ipython",
    "version": 3
   },
   "file_extension": ".py",
   "mimetype": "text/x-python",
   "name": "python",
   "nbconvert_exporter": "python",
   "pygments_lexer": "ipython3",
   "version": "3.8.8"
  }
 },
 "nbformat": 4,
 "nbformat_minor": 5
}
